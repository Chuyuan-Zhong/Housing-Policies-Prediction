{
 "cells": [
  {
   "cell_type": "code",
   "execution_count": 1,
   "id": "1147ee69",
   "metadata": {},
   "outputs": [
    {
     "name": "stdout",
     "output_type": "stream",
     "text": [
      "Requirement already satisfied: xlrd in c:\\users\\chuyuan\\anaconda3\\lib\\site-packages (2.0.1)\n",
      "Requirement already satisfied: geopy in c:\\users\\chuyuan\\anaconda3\\lib\\site-packages (2.3.0)\n",
      "Requirement already satisfied: geographiclib<3,>=1.52 in c:\\users\\chuyuan\\anaconda3\\lib\\site-packages (from geopy) (2.0)\n"
     ]
    }
   ],
   "source": [
    "import pandas as pd \n",
    "!pip install xlrd\n",
    "import numpy as np\n",
    "from numpy import arange\n",
    "import plotnine\n",
    "from plotnine import *\n",
    "import seaborn as sns\n",
    "from scipy import stats\n",
    "import os\n",
    "import re\n",
    "%matplotlib inline \n",
    "import matplotlib.pyplot as plt\n",
    "\n",
    "!pip install geopy\n",
    "from geopy.geocoders import Nominatim\n",
    "import matplotlib.ticker as mtick\n",
    "from matplotlib.ticker import ScalarFormatter"
   ]
  },
  {
   "cell_type": "markdown",
   "id": "249355f3",
   "metadata": {},
   "source": [
    "# Data Cleaning\n",
    "- Remove uninterested columns\n",
    "- Remove NA values\n",
    "- Convert variable types"
   ]
  },
  {
   "cell_type": "code",
   "execution_count": 3,
   "id": "2f8071bf",
   "metadata": {},
   "outputs": [
    {
     "data": {
      "text/html": [
       "<div>\n",
       "<style scoped>\n",
       "    .dataframe tbody tr th:only-of-type {\n",
       "        vertical-align: middle;\n",
       "    }\n",
       "\n",
       "    .dataframe tbody tr th {\n",
       "        vertical-align: top;\n",
       "    }\n",
       "\n",
       "    .dataframe thead th {\n",
       "        text-align: right;\n",
       "    }\n",
       "</style>\n",
       "<table border=\"1\" class=\"dataframe\">\n",
       "  <thead>\n",
       "    <tr style=\"text-align: right;\">\n",
       "      <th></th>\n",
       "      <th>Unnamed: 0</th>\n",
       "      <th>BATHRM</th>\n",
       "      <th>HF_BATHRM</th>\n",
       "      <th>HEAT</th>\n",
       "      <th>AC</th>\n",
       "      <th>NUM_UNITS</th>\n",
       "      <th>ROOMS</th>\n",
       "      <th>BEDRM</th>\n",
       "      <th>AYB</th>\n",
       "      <th>YR_RMDL</th>\n",
       "      <th>...</th>\n",
       "      <th>LONGITUDE</th>\n",
       "      <th>ASSESSMENT_NBHD</th>\n",
       "      <th>ASSESSMENT_SUBNBHD</th>\n",
       "      <th>CENSUS_TRACT</th>\n",
       "      <th>CENSUS_BLOCK</th>\n",
       "      <th>WARD</th>\n",
       "      <th>SQUARE</th>\n",
       "      <th>X</th>\n",
       "      <th>Y</th>\n",
       "      <th>QUADRANT</th>\n",
       "    </tr>\n",
       "  </thead>\n",
       "  <tbody>\n",
       "    <tr>\n",
       "      <th>0</th>\n",
       "      <td>0</td>\n",
       "      <td>4</td>\n",
       "      <td>0</td>\n",
       "      <td>Warm Cool</td>\n",
       "      <td>Y</td>\n",
       "      <td>2.0</td>\n",
       "      <td>8</td>\n",
       "      <td>4</td>\n",
       "      <td>1910.0</td>\n",
       "      <td>1988.0</td>\n",
       "      <td>...</td>\n",
       "      <td>-77.040832</td>\n",
       "      <td>Old City 2</td>\n",
       "      <td>040 D Old City 2</td>\n",
       "      <td>4201.0</td>\n",
       "      <td>004201 2006</td>\n",
       "      <td>Ward 2</td>\n",
       "      <td>0152</td>\n",
       "      <td>-77.040429</td>\n",
       "      <td>38.914881</td>\n",
       "      <td>NW</td>\n",
       "    </tr>\n",
       "    <tr>\n",
       "      <th>1</th>\n",
       "      <td>1</td>\n",
       "      <td>3</td>\n",
       "      <td>1</td>\n",
       "      <td>Warm Cool</td>\n",
       "      <td>Y</td>\n",
       "      <td>2.0</td>\n",
       "      <td>11</td>\n",
       "      <td>5</td>\n",
       "      <td>1898.0</td>\n",
       "      <td>2007.0</td>\n",
       "      <td>...</td>\n",
       "      <td>-77.040764</td>\n",
       "      <td>Old City 2</td>\n",
       "      <td>040 D Old City 2</td>\n",
       "      <td>4201.0</td>\n",
       "      <td>004201 2006</td>\n",
       "      <td>Ward 2</td>\n",
       "      <td>0152</td>\n",
       "      <td>-77.040429</td>\n",
       "      <td>38.914881</td>\n",
       "      <td>NW</td>\n",
       "    </tr>\n",
       "    <tr>\n",
       "      <th>2</th>\n",
       "      <td>2</td>\n",
       "      <td>3</td>\n",
       "      <td>1</td>\n",
       "      <td>Hot Water Rad</td>\n",
       "      <td>Y</td>\n",
       "      <td>2.0</td>\n",
       "      <td>9</td>\n",
       "      <td>5</td>\n",
       "      <td>1910.0</td>\n",
       "      <td>2009.0</td>\n",
       "      <td>...</td>\n",
       "      <td>-77.040678</td>\n",
       "      <td>Old City 2</td>\n",
       "      <td>040 D Old City 2</td>\n",
       "      <td>4201.0</td>\n",
       "      <td>004201 2006</td>\n",
       "      <td>Ward 2</td>\n",
       "      <td>0152</td>\n",
       "      <td>-77.040429</td>\n",
       "      <td>38.914881</td>\n",
       "      <td>NW</td>\n",
       "    </tr>\n",
       "    <tr>\n",
       "      <th>3</th>\n",
       "      <td>3</td>\n",
       "      <td>3</td>\n",
       "      <td>1</td>\n",
       "      <td>Hot Water Rad</td>\n",
       "      <td>Y</td>\n",
       "      <td>2.0</td>\n",
       "      <td>8</td>\n",
       "      <td>5</td>\n",
       "      <td>1900.0</td>\n",
       "      <td>2003.0</td>\n",
       "      <td>...</td>\n",
       "      <td>-77.040629</td>\n",
       "      <td>Old City 2</td>\n",
       "      <td>040 D Old City 2</td>\n",
       "      <td>4201.0</td>\n",
       "      <td>004201 2006</td>\n",
       "      <td>Ward 2</td>\n",
       "      <td>0152</td>\n",
       "      <td>-77.040429</td>\n",
       "      <td>38.914881</td>\n",
       "      <td>NW</td>\n",
       "    </tr>\n",
       "    <tr>\n",
       "      <th>4</th>\n",
       "      <td>4</td>\n",
       "      <td>2</td>\n",
       "      <td>1</td>\n",
       "      <td>Warm Cool</td>\n",
       "      <td>Y</td>\n",
       "      <td>1.0</td>\n",
       "      <td>11</td>\n",
       "      <td>3</td>\n",
       "      <td>1913.0</td>\n",
       "      <td>2012.0</td>\n",
       "      <td>...</td>\n",
       "      <td>-77.039361</td>\n",
       "      <td>Old City 2</td>\n",
       "      <td>040 D Old City 2</td>\n",
       "      <td>4201.0</td>\n",
       "      <td>004201 2006</td>\n",
       "      <td>Ward 2</td>\n",
       "      <td>0152</td>\n",
       "      <td>-77.040429</td>\n",
       "      <td>38.914881</td>\n",
       "      <td>NW</td>\n",
       "    </tr>\n",
       "  </tbody>\n",
       "</table>\n",
       "<p>5 rows × 49 columns</p>\n",
       "</div>"
      ],
      "text/plain": [
       "   Unnamed: 0  BATHRM  HF_BATHRM           HEAT AC  NUM_UNITS  ROOMS  BEDRM  \\\n",
       "0           0       4          0      Warm Cool  Y        2.0      8      4   \n",
       "1           1       3          1      Warm Cool  Y        2.0     11      5   \n",
       "2           2       3          1  Hot Water Rad  Y        2.0      9      5   \n",
       "3           3       3          1  Hot Water Rad  Y        2.0      8      5   \n",
       "4           4       2          1      Warm Cool  Y        1.0     11      3   \n",
       "\n",
       "      AYB  YR_RMDL  ...  LONGITUDE  ASSESSMENT_NBHD ASSESSMENT_SUBNBHD  \\\n",
       "0  1910.0   1988.0  ... -77.040832       Old City 2   040 D Old City 2   \n",
       "1  1898.0   2007.0  ... -77.040764       Old City 2   040 D Old City 2   \n",
       "2  1910.0   2009.0  ... -77.040678       Old City 2   040 D Old City 2   \n",
       "3  1900.0   2003.0  ... -77.040629       Old City 2   040 D Old City 2   \n",
       "4  1913.0   2012.0  ... -77.039361       Old City 2   040 D Old City 2   \n",
       "\n",
       "   CENSUS_TRACT CENSUS_BLOCK    WARD  SQUARE          X          Y QUADRANT  \n",
       "0        4201.0  004201 2006  Ward 2    0152 -77.040429  38.914881       NW  \n",
       "1        4201.0  004201 2006  Ward 2    0152 -77.040429  38.914881       NW  \n",
       "2        4201.0  004201 2006  Ward 2    0152 -77.040429  38.914881       NW  \n",
       "3        4201.0  004201 2006  Ward 2    0152 -77.040429  38.914881       NW  \n",
       "4        4201.0  004201 2006  Ward 2    0152 -77.040429  38.914881       NW  \n",
       "\n",
       "[5 rows x 49 columns]"
      ]
     },
     "execution_count": 3,
     "metadata": {},
     "output_type": "execute_result"
    }
   ],
   "source": [
    "# read housing data\n",
    "housing = pd.read_csv('/Users/Chuyuan/Desktop/PPOL565 Final Project cz363/DC_Properties.csv', low_memory=False)\n",
    "\n",
    "# view the data\n",
    "housing.head()"
   ]
  },
  {
   "cell_type": "code",
   "execution_count": 4,
   "id": "cef70e5e",
   "metadata": {},
   "outputs": [
    {
     "data": {
      "text/plain": [
       "(158957, 49)"
      ]
     },
     "execution_count": 4,
     "metadata": {},
     "output_type": "execute_result"
    }
   ],
   "source": [
    "# check the dimenstionality of dataset\n",
    "housing.shape"
   ]
  },
  {
   "cell_type": "code",
   "execution_count": 5,
   "id": "279a6a82",
   "metadata": {},
   "outputs": [
    {
     "name": "stdout",
     "output_type": "stream",
     "text": [
      "<class 'pandas.core.frame.DataFrame'>\n",
      "RangeIndex: 158957 entries, 0 to 158956\n",
      "Data columns (total 49 columns):\n",
      " #   Column              Non-Null Count   Dtype  \n",
      "---  ------              --------------   -----  \n",
      " 0   Unnamed: 0          158957 non-null  int64  \n",
      " 1   BATHRM              158957 non-null  int64  \n",
      " 2   HF_BATHRM           158957 non-null  int64  \n",
      " 3   HEAT                158957 non-null  object \n",
      " 4   AC                  158957 non-null  object \n",
      " 5   NUM_UNITS           106696 non-null  float64\n",
      " 6   ROOMS               158957 non-null  int64  \n",
      " 7   BEDRM               158957 non-null  int64  \n",
      " 8   AYB                 158686 non-null  float64\n",
      " 9   YR_RMDL             80928 non-null   float64\n",
      " 10  EYB                 158957 non-null  int64  \n",
      " 11  STORIES             106652 non-null  float64\n",
      " 12  SALEDATE            132187 non-null  object \n",
      " 13  PRICE               98216 non-null   float64\n",
      " 14  QUALIFIED           158957 non-null  object \n",
      " 15  SALE_NUM            158957 non-null  int64  \n",
      " 16  GBA                 106696 non-null  float64\n",
      " 17  BLDG_NUM            158957 non-null  int64  \n",
      " 18  STYLE               106696 non-null  object \n",
      " 19  STRUCT              106696 non-null  object \n",
      " 20  GRADE               106696 non-null  object \n",
      " 21  CNDTN               106696 non-null  object \n",
      " 22  EXTWALL             106696 non-null  object \n",
      " 23  ROOF                106696 non-null  object \n",
      " 24  INTWALL             106696 non-null  object \n",
      " 25  KITCHENS            106695 non-null  float64\n",
      " 26  FIREPLACES          158957 non-null  int64  \n",
      " 27  USECODE             158957 non-null  int64  \n",
      " 28  LANDAREA            158957 non-null  int64  \n",
      " 29  GIS_LAST_MOD_DTTM   158957 non-null  object \n",
      " 30  SOURCE              158957 non-null  object \n",
      " 31  CMPLX_NUM           52261 non-null   float64\n",
      " 32  LIVING_GBA          52261 non-null   float64\n",
      " 33  FULLADDRESS         106040 non-null  object \n",
      " 34  CITY                106051 non-null  object \n",
      " 35  STATE               106051 non-null  object \n",
      " 36  ZIPCODE             158956 non-null  float64\n",
      " 37  NATIONALGRID        106051 non-null  object \n",
      " 38  LATITUDE            158956 non-null  float64\n",
      " 39  LONGITUDE           158956 non-null  float64\n",
      " 40  ASSESSMENT_NBHD     158956 non-null  object \n",
      " 41  ASSESSMENT_SUBNBHD  126406 non-null  object \n",
      " 42  CENSUS_TRACT        158956 non-null  float64\n",
      " 43  CENSUS_BLOCK        106051 non-null  object \n",
      " 44  WARD                158956 non-null  object \n",
      " 45  SQUARE              158957 non-null  object \n",
      " 46  X                   158720 non-null  float64\n",
      " 47  Y                   158720 non-null  float64\n",
      " 48  QUADRANT            158720 non-null  object \n",
      "dtypes: float64(15), int64(11), object(23)\n",
      "memory usage: 59.4+ MB\n"
     ]
    }
   ],
   "source": [
    "# get the head of data\n",
    "housing.info()"
   ]
  },
  {
   "cell_type": "code",
   "execution_count": 6,
   "id": "ef0ce300",
   "metadata": {},
   "outputs": [],
   "source": [
    "# convert the type of SQUARE, STORIES to int \n",
    "housing['SQUARE'] = housing['SQUARE'].apply(lambda x: int(x.strip()) if str(x).isdigit() else 0)"
   ]
  },
  {
   "cell_type": "code",
   "execution_count": 7,
   "id": "176dba77",
   "metadata": {},
   "outputs": [
    {
     "data": {
      "text/plain": [
       "(57803, 26)"
      ]
     },
     "execution_count": 7,
     "metadata": {},
     "output_type": "execute_result"
    }
   ],
   "source": [
    "# drop unnecessary columns and NAs\n",
    "cols_to_drop = ['NUM_UNITS', 'YR_RMDL', 'FULLADDRESS', 'ASSESSMENT_NBHD', 'Unnamed: 0','NATIONALGRID', 'BLDG_NUM', 'CITY', 'STATE', 'ZIPCODE', 'GRADE', 'STORIES', 'USECODE', 'CMPLX_NUM', 'LIVING_GBA', 'ASSESSMENT_SUBNBHD', 'SOURCE', 'CENSUS_TRACT','CENSUS_BLOCK', 'GIS_LAST_MOD_DTTM', 'QUADRANT', 'X', 'Y']\n",
    "housing = housing.drop(cols_to_drop, axis=1)\n",
    "housing = housing.dropna()\n",
    "\n",
    "# check the dimensionality of the dataset\n",
    "housing.shape"
   ]
  },
  {
   "cell_type": "code",
   "execution_count": 8,
   "id": "bc08b2ee",
   "metadata": {},
   "outputs": [],
   "source": [
    "# convert saledate to datetime\n",
    "housing['SALEDATE'] = pd.to_datetime(housing['SALEDATE'])\n",
    "\n",
    "# filter time range from 2000-01 to 2018-12\n",
    "start_date = pd.to_datetime('2000-01-01')\n",
    "end_date = pd.to_datetime('2018-12-31')\n",
    "housing = housing[(housing['SALEDATE'] >= start_date) & (housing['SALEDATE'] <= end_date)]\n",
    "\n",
    "# format SLAEDATE to year only\n",
    "housing['SALEDATE'] = housing['SALEDATE'].dt.year\n",
    "\n",
    "# convert two variables to dummies\n",
    "housing['AC'] = housing['AC'].map({'0': 0, 'Y': 1, 'N': 0})\n",
    "housing['QUALIFIED'].replace({'Q': 1, 'U': 0}, inplace=True)"
   ]
  },
  {
   "cell_type": "markdown",
   "id": "b58497d6",
   "metadata": {},
   "source": [
    "# Data Merging\n",
    "- Clean and merge housing data with income and race data\n",
    "- Refine the dataset by removing any rows with missing values\n",
    "- Fill in missing race data for 2000 by assigning values from 2001-2009, ensuring consistency for each ward over time\n",
    "- Remove values with a frequency of less than 500"
   ]
  },
  {
   "cell_type": "code",
   "execution_count": 9,
   "id": "380c31fa",
   "metadata": {},
   "outputs": [],
   "source": [
    "# read unemployment, income and race data\n",
    "income_original = pd.read_excel('/Users/Chuyuan/Desktop/PPOL565 Final Project cz363/Median income of families with children by ward.xlsx', engine='openpyxl')\n",
    "race = pd.read_excel('/Users/Chuyuan/Desktop/PPOL565 Final Project cz363/Race_ethnicity of total population by ward.xlsx', engine='openpyxl')"
   ]
  },
  {
   "cell_type": "code",
   "execution_count": 10,
   "id": "9ed14f9e",
   "metadata": {},
   "outputs": [],
   "source": [
    "# clean income data\n",
    "income_original['Data'] = income_original['Data'].str.replace(r'\\D+', '', regex=True)\n",
    "income_original = income_original.drop(['LocationType', 'DataFormat'], axis = 1)\n",
    "income_original = income_original[income_original.Location != 'District of Columbia']\n",
    "income1 = income_original.rename({'Data': 'income($)', 'TimeFrame': 'SALEDATE', 'Location':'WARD'}, axis=1)"
   ]
  },
  {
   "cell_type": "code",
   "execution_count": 11,
   "id": "58d4fe67",
   "metadata": {},
   "outputs": [],
   "source": [
    "# locate ward income in 2000, we need this to merge income in housing in 2000-2009\n",
    "income_2000 = income1[income1['SALEDATE'] == 2000]"
   ]
  },
  {
   "cell_type": "code",
   "execution_count": 12,
   "id": "23f5ce4a",
   "metadata": {},
   "outputs": [],
   "source": [
    "# merge income data with housing 2010-2020\n",
    "new_df1 = pd.merge(housing, income1, on=['WARD', 'SALEDATE'], how='left')"
   ]
  },
  {
   "cell_type": "code",
   "execution_count": 13,
   "id": "10e62e11",
   "metadata": {},
   "outputs": [],
   "source": [
    "# merge income data with housing 2000-2009\n",
    "merged_df = pd.merge(new_df1[['WARD']], income_2000[['WARD', 'income($)']], on='WARD', how='left')\n",
    "new_df1['income($)'] = new_df1['income($)'].fillna(merged_df['income($)'])"
   ]
  },
  {
   "cell_type": "code",
   "execution_count": 14,
   "id": "556fec81",
   "metadata": {},
   "outputs": [
    {
     "data": {
      "text/html": [
       "<div>\n",
       "<style scoped>\n",
       "    .dataframe tbody tr th:only-of-type {\n",
       "        vertical-align: middle;\n",
       "    }\n",
       "\n",
       "    .dataframe tbody tr th {\n",
       "        vertical-align: top;\n",
       "    }\n",
       "\n",
       "    .dataframe thead th {\n",
       "        text-align: right;\n",
       "    }\n",
       "</style>\n",
       "<table border=\"1\" class=\"dataframe\">\n",
       "  <thead>\n",
       "    <tr style=\"text-align: right;\">\n",
       "      <th></th>\n",
       "      <th>BATHRM</th>\n",
       "      <th>HF_BATHRM</th>\n",
       "      <th>HEAT</th>\n",
       "      <th>AC</th>\n",
       "      <th>ROOMS</th>\n",
       "      <th>BEDRM</th>\n",
       "      <th>AYB</th>\n",
       "      <th>EYB</th>\n",
       "      <th>SALEDATE</th>\n",
       "      <th>PRICE</th>\n",
       "      <th>...</th>\n",
       "      <th>ROOF</th>\n",
       "      <th>INTWALL</th>\n",
       "      <th>KITCHENS</th>\n",
       "      <th>FIREPLACES</th>\n",
       "      <th>LANDAREA</th>\n",
       "      <th>LATITUDE</th>\n",
       "      <th>LONGITUDE</th>\n",
       "      <th>WARD</th>\n",
       "      <th>SQUARE</th>\n",
       "      <th>income($)</th>\n",
       "    </tr>\n",
       "  </thead>\n",
       "  <tbody>\n",
       "    <tr>\n",
       "      <th>0</th>\n",
       "      <td>4</td>\n",
       "      <td>0</td>\n",
       "      <td>Warm Cool</td>\n",
       "      <td>1</td>\n",
       "      <td>8</td>\n",
       "      <td>4</td>\n",
       "      <td>1910.0</td>\n",
       "      <td>1972</td>\n",
       "      <td>2003</td>\n",
       "      <td>1095000.0</td>\n",
       "      <td>...</td>\n",
       "      <td>Metal- Sms</td>\n",
       "      <td>Hardwood</td>\n",
       "      <td>2.0</td>\n",
       "      <td>5</td>\n",
       "      <td>1680</td>\n",
       "      <td>38.914680</td>\n",
       "      <td>-77.040832</td>\n",
       "      <td>Ward 2</td>\n",
       "      <td>152</td>\n",
       "      <td>47300</td>\n",
       "    </tr>\n",
       "    <tr>\n",
       "      <th>1</th>\n",
       "      <td>3</td>\n",
       "      <td>1</td>\n",
       "      <td>Hot Water Rad</td>\n",
       "      <td>1</td>\n",
       "      <td>9</td>\n",
       "      <td>5</td>\n",
       "      <td>1910.0</td>\n",
       "      <td>1984</td>\n",
       "      <td>2016</td>\n",
       "      <td>2100000.0</td>\n",
       "      <td>...</td>\n",
       "      <td>Built Up</td>\n",
       "      <td>Hardwood</td>\n",
       "      <td>2.0</td>\n",
       "      <td>4</td>\n",
       "      <td>1680</td>\n",
       "      <td>38.914684</td>\n",
       "      <td>-77.040678</td>\n",
       "      <td>Ward 2</td>\n",
       "      <td>152</td>\n",
       "      <td>182019</td>\n",
       "    </tr>\n",
       "    <tr>\n",
       "      <th>2</th>\n",
       "      <td>3</td>\n",
       "      <td>1</td>\n",
       "      <td>Hot Water Rad</td>\n",
       "      <td>1</td>\n",
       "      <td>8</td>\n",
       "      <td>5</td>\n",
       "      <td>1900.0</td>\n",
       "      <td>1984</td>\n",
       "      <td>2006</td>\n",
       "      <td>1602000.0</td>\n",
       "      <td>...</td>\n",
       "      <td>Built Up</td>\n",
       "      <td>Hardwood</td>\n",
       "      <td>2.0</td>\n",
       "      <td>3</td>\n",
       "      <td>1680</td>\n",
       "      <td>38.914683</td>\n",
       "      <td>-77.040629</td>\n",
       "      <td>Ward 2</td>\n",
       "      <td>152</td>\n",
       "      <td>47300</td>\n",
       "    </tr>\n",
       "    <tr>\n",
       "      <th>3</th>\n",
       "      <td>3</td>\n",
       "      <td>2</td>\n",
       "      <td>Hot Water Rad</td>\n",
       "      <td>1</td>\n",
       "      <td>10</td>\n",
       "      <td>5</td>\n",
       "      <td>1913.0</td>\n",
       "      <td>1972</td>\n",
       "      <td>2010</td>\n",
       "      <td>1950000.0</td>\n",
       "      <td>...</td>\n",
       "      <td>Built Up</td>\n",
       "      <td>Hardwood</td>\n",
       "      <td>1.0</td>\n",
       "      <td>4</td>\n",
       "      <td>2196</td>\n",
       "      <td>38.914331</td>\n",
       "      <td>-77.039715</td>\n",
       "      <td>Ward 2</td>\n",
       "      <td>152</td>\n",
       "      <td>105600</td>\n",
       "    </tr>\n",
       "    <tr>\n",
       "      <th>4</th>\n",
       "      <td>3</td>\n",
       "      <td>1</td>\n",
       "      <td>Hot Water Rad</td>\n",
       "      <td>1</td>\n",
       "      <td>8</td>\n",
       "      <td>4</td>\n",
       "      <td>1906.0</td>\n",
       "      <td>1972</td>\n",
       "      <td>2011</td>\n",
       "      <td>1050000.0</td>\n",
       "      <td>...</td>\n",
       "      <td>Metal- Sms</td>\n",
       "      <td>Hardwood</td>\n",
       "      <td>2.0</td>\n",
       "      <td>1</td>\n",
       "      <td>1627</td>\n",
       "      <td>38.915408</td>\n",
       "      <td>-77.040129</td>\n",
       "      <td>Ward 2</td>\n",
       "      <td>152</td>\n",
       "      <td>116477</td>\n",
       "    </tr>\n",
       "  </tbody>\n",
       "</table>\n",
       "<p>5 rows × 27 columns</p>\n",
       "</div>"
      ],
      "text/plain": [
       "   BATHRM  HF_BATHRM           HEAT  AC  ROOMS  BEDRM     AYB   EYB  SALEDATE  \\\n",
       "0       4          0      Warm Cool   1      8      4  1910.0  1972      2003   \n",
       "1       3          1  Hot Water Rad   1      9      5  1910.0  1984      2016   \n",
       "2       3          1  Hot Water Rad   1      8      5  1900.0  1984      2006   \n",
       "3       3          2  Hot Water Rad   1     10      5  1913.0  1972      2010   \n",
       "4       3          1  Hot Water Rad   1      8      4  1906.0  1972      2011   \n",
       "\n",
       "       PRICE  ...        ROOF   INTWALL  KITCHENS FIREPLACES LANDAREA  \\\n",
       "0  1095000.0  ...  Metal- Sms  Hardwood       2.0          5     1680   \n",
       "1  2100000.0  ...    Built Up  Hardwood       2.0          4     1680   \n",
       "2  1602000.0  ...    Built Up  Hardwood       2.0          3     1680   \n",
       "3  1950000.0  ...    Built Up  Hardwood       1.0          4     2196   \n",
       "4  1050000.0  ...  Metal- Sms  Hardwood       2.0          1     1627   \n",
       "\n",
       "    LATITUDE  LONGITUDE    WARD SQUARE  income($)  \n",
       "0  38.914680 -77.040832  Ward 2    152      47300  \n",
       "1  38.914684 -77.040678  Ward 2    152     182019  \n",
       "2  38.914683 -77.040629  Ward 2    152      47300  \n",
       "3  38.914331 -77.039715  Ward 2    152     105600  \n",
       "4  38.915408 -77.040129  Ward 2    152     116477  \n",
       "\n",
       "[5 rows x 27 columns]"
      ]
     },
     "execution_count": 14,
     "metadata": {},
     "output_type": "execute_result"
    }
   ],
   "source": [
    "new_df1.head()"
   ]
  },
  {
   "cell_type": "code",
   "execution_count": 15,
   "id": "1958a9c9",
   "metadata": {},
   "outputs": [],
   "source": [
    "# clean race data \n",
    "race = race.loc[(race.Location != 'District of Columbia') & (race['DataFormat'] != 'Number') &          \n",
    "                (race['Race Ethnicity'].isin(['Asian', 'White', 'Black', 'Hispanic']))]\n",
    "\n",
    "race = race.drop(['LocationType', 'Age group', 'DataFormat'], axis = 1)\n",
    "race1 = race.rename({'Data': 'race_prop', 'TimeFrame': 'SALEDATE', 'Location':'WARD'}, axis=1)"
   ]
  },
  {
   "cell_type": "code",
   "execution_count": 16,
   "id": "c666d572",
   "metadata": {},
   "outputs": [],
   "source": [
    "# convert long format to wide format\n",
    "race1 = race1.pivot(index=['WARD', 'SALEDATE'], columns='Race Ethnicity', values='race_prop')\n",
    "race1 = race1.reset_index().rename_axis(None, axis=1)\n",
    "\n",
    "# merge race data with housing\n",
    "df = pd.merge(new_df1, race1, on=['WARD', 'SALEDATE'], how='left')"
   ]
  },
  {
   "cell_type": "code",
   "execution_count": 17,
   "id": "8c253c2a",
   "metadata": {},
   "outputs": [
    {
     "data": {
      "text/plain": [
       "(50983, 31)"
      ]
     },
     "execution_count": 17,
     "metadata": {},
     "output_type": "execute_result"
    }
   ],
   "source": [
    "# locate race in in year 2000\n",
    "race_2000 = race1[race1['SALEDATE'] == 2000]\n",
    "\n",
    "# create a list of columns to fill\n",
    "columns_to_fill = ['Asian', 'Black', 'White', 'Hispanic']\n",
    "\n",
    "# loop through the columns and fill missing values\n",
    "for col in columns_to_fill:\n",
    "    df[col].fillna(df['WARD'].map(race_2000.set_index('WARD')[col]), inplace=True)\n",
    "\n",
    "\n",
    "# round proportion values\n",
    "df = df.round({'Asian': 2, 'Black':2, 'Hispanic':2, 'White':2})\n",
    "\n",
    "# convert income type\n",
    "df['income($)'] = df['income($)'].astype(int)\n",
    "df.shape"
   ]
  },
  {
   "cell_type": "code",
   "execution_count": 18,
   "id": "4d4aee81",
   "metadata": {},
   "outputs": [
    {
     "data": {
      "text/plain": [
       "BATHRM        0\n",
       "HF_BATHRM     0\n",
       "HEAT          0\n",
       "AC            0\n",
       "ROOMS         0\n",
       "BEDRM         0\n",
       "AYB           0\n",
       "EYB           0\n",
       "SALEDATE      0\n",
       "PRICE         0\n",
       "QUALIFIED     0\n",
       "SALE_NUM      0\n",
       "GBA           0\n",
       "STYLE         0\n",
       "STRUCT        0\n",
       "CNDTN         0\n",
       "EXTWALL       0\n",
       "ROOF          0\n",
       "INTWALL       0\n",
       "KITCHENS      0\n",
       "FIREPLACES    0\n",
       "LANDAREA      0\n",
       "LATITUDE      0\n",
       "LONGITUDE     0\n",
       "WARD          0\n",
       "SQUARE        0\n",
       "income($)     0\n",
       "Asian         0\n",
       "Black         0\n",
       "Hispanic      0\n",
       "White         0\n",
       "dtype: int64"
      ]
     },
     "execution_count": 18,
     "metadata": {},
     "output_type": "execute_result"
    }
   ],
   "source": [
    "# check NA values\n",
    "df.isna().sum()"
   ]
  },
  {
   "cell_type": "code",
   "execution_count": 19,
   "id": "052da73f",
   "metadata": {},
   "outputs": [],
   "source": [
    "# remove the frequency of values less than 500\n",
    "v = df[['HEAT', 'STYLE', 'STRUCT', 'CNDTN', 'EXTWALL', 'ROOF', 'INTWALL', 'WARD']]\n",
    "df=df[v.replace(v.apply(pd.Series.value_counts)).gt(500).all(1)]"
   ]
  },
  {
   "cell_type": "code",
   "execution_count": 20,
   "id": "fa0ccc01",
   "metadata": {},
   "outputs": [
    {
     "data": {
      "text/html": [
       "<div>\n",
       "<style scoped>\n",
       "    .dataframe tbody tr th:only-of-type {\n",
       "        vertical-align: middle;\n",
       "    }\n",
       "\n",
       "    .dataframe tbody tr th {\n",
       "        vertical-align: top;\n",
       "    }\n",
       "\n",
       "    .dataframe thead th {\n",
       "        text-align: right;\n",
       "    }\n",
       "</style>\n",
       "<table border=\"1\" class=\"dataframe\">\n",
       "  <thead>\n",
       "    <tr style=\"text-align: right;\">\n",
       "      <th></th>\n",
       "      <th>count</th>\n",
       "      <th>mean</th>\n",
       "      <th>std</th>\n",
       "      <th>min</th>\n",
       "      <th>25%</th>\n",
       "      <th>50%</th>\n",
       "      <th>75%</th>\n",
       "      <th>max</th>\n",
       "      <th>median</th>\n",
       "    </tr>\n",
       "  </thead>\n",
       "  <tbody>\n",
       "    <tr>\n",
       "      <th>BATHRM</th>\n",
       "      <td>44695.0</td>\n",
       "      <td>2.21</td>\n",
       "      <td>1.04</td>\n",
       "      <td>0.00</td>\n",
       "      <td>1.00</td>\n",
       "      <td>2.00</td>\n",
       "      <td>3.00</td>\n",
       "      <td>11.00</td>\n",
       "      <td>2.10</td>\n",
       "    </tr>\n",
       "    <tr>\n",
       "      <th>HF_BATHRM</th>\n",
       "      <td>44695.0</td>\n",
       "      <td>0.64</td>\n",
       "      <td>0.60</td>\n",
       "      <td>0.00</td>\n",
       "      <td>0.00</td>\n",
       "      <td>1.00</td>\n",
       "      <td>1.00</td>\n",
       "      <td>7.00</td>\n",
       "      <td>0.82</td>\n",
       "    </tr>\n",
       "    <tr>\n",
       "      <th>AC</th>\n",
       "      <td>44695.0</td>\n",
       "      <td>0.75</td>\n",
       "      <td>0.43</td>\n",
       "      <td>0.00</td>\n",
       "      <td>1.00</td>\n",
       "      <td>1.00</td>\n",
       "      <td>1.00</td>\n",
       "      <td>1.00</td>\n",
       "      <td>1.00</td>\n",
       "    </tr>\n",
       "    <tr>\n",
       "      <th>ROOMS</th>\n",
       "      <td>44695.0</td>\n",
       "      <td>7.39</td>\n",
       "      <td>2.28</td>\n",
       "      <td>0.00</td>\n",
       "      <td>6.00</td>\n",
       "      <td>7.00</td>\n",
       "      <td>8.00</td>\n",
       "      <td>31.00</td>\n",
       "      <td>7.20</td>\n",
       "    </tr>\n",
       "    <tr>\n",
       "      <th>BEDRM</th>\n",
       "      <td>44695.0</td>\n",
       "      <td>3.41</td>\n",
       "      <td>1.10</td>\n",
       "      <td>0.00</td>\n",
       "      <td>3.00</td>\n",
       "      <td>3.00</td>\n",
       "      <td>4.00</td>\n",
       "      <td>20.00</td>\n",
       "      <td>3.21</td>\n",
       "    </tr>\n",
       "    <tr>\n",
       "      <th>AYB</th>\n",
       "      <td>44695.0</td>\n",
       "      <td>1933.63</td>\n",
       "      <td>30.02</td>\n",
       "      <td>1776.00</td>\n",
       "      <td>1912.00</td>\n",
       "      <td>1928.00</td>\n",
       "      <td>1946.00</td>\n",
       "      <td>2018.00</td>\n",
       "      <td>1930.81</td>\n",
       "    </tr>\n",
       "    <tr>\n",
       "      <th>EYB</th>\n",
       "      <td>44695.0</td>\n",
       "      <td>1970.01</td>\n",
       "      <td>16.23</td>\n",
       "      <td>1933.00</td>\n",
       "      <td>1960.00</td>\n",
       "      <td>1967.00</td>\n",
       "      <td>1974.00</td>\n",
       "      <td>2018.00</td>\n",
       "      <td>1968.50</td>\n",
       "    </tr>\n",
       "    <tr>\n",
       "      <th>SALEDATE</th>\n",
       "      <td>44695.0</td>\n",
       "      <td>2010.61</td>\n",
       "      <td>5.46</td>\n",
       "      <td>2000.00</td>\n",
       "      <td>2006.00</td>\n",
       "      <td>2012.00</td>\n",
       "      <td>2015.00</td>\n",
       "      <td>2018.00</td>\n",
       "      <td>2011.30</td>\n",
       "    </tr>\n",
       "    <tr>\n",
       "      <th>PRICE</th>\n",
       "      <td>44695.0</td>\n",
       "      <td>607203.99</td>\n",
       "      <td>578903.03</td>\n",
       "      <td>1.00</td>\n",
       "      <td>280000.00</td>\n",
       "      <td>490000.00</td>\n",
       "      <td>775000.00</td>\n",
       "      <td>25100000.00</td>\n",
       "      <td>534451.52</td>\n",
       "    </tr>\n",
       "    <tr>\n",
       "      <th>QUALIFIED</th>\n",
       "      <td>44695.0</td>\n",
       "      <td>0.81</td>\n",
       "      <td>0.39</td>\n",
       "      <td>0.00</td>\n",
       "      <td>1.00</td>\n",
       "      <td>1.00</td>\n",
       "      <td>1.00</td>\n",
       "      <td>1.00</td>\n",
       "      <td>1.00</td>\n",
       "    </tr>\n",
       "    <tr>\n",
       "      <th>SALE_NUM</th>\n",
       "      <td>44695.0</td>\n",
       "      <td>1.97</td>\n",
       "      <td>1.52</td>\n",
       "      <td>1.00</td>\n",
       "      <td>1.00</td>\n",
       "      <td>1.00</td>\n",
       "      <td>3.00</td>\n",
       "      <td>15.00</td>\n",
       "      <td>1.75</td>\n",
       "    </tr>\n",
       "    <tr>\n",
       "      <th>GBA</th>\n",
       "      <td>44695.0</td>\n",
       "      <td>1675.86</td>\n",
       "      <td>757.06</td>\n",
       "      <td>407.00</td>\n",
       "      <td>1200.00</td>\n",
       "      <td>1476.00</td>\n",
       "      <td>1912.00</td>\n",
       "      <td>15902.00</td>\n",
       "      <td>1575.93</td>\n",
       "    </tr>\n",
       "    <tr>\n",
       "      <th>KITCHENS</th>\n",
       "      <td>44695.0</td>\n",
       "      <td>1.27</td>\n",
       "      <td>0.68</td>\n",
       "      <td>0.00</td>\n",
       "      <td>1.00</td>\n",
       "      <td>1.00</td>\n",
       "      <td>1.00</td>\n",
       "      <td>44.00</td>\n",
       "      <td>1.00</td>\n",
       "    </tr>\n",
       "    <tr>\n",
       "      <th>FIREPLACES</th>\n",
       "      <td>44695.0</td>\n",
       "      <td>0.60</td>\n",
       "      <td>0.88</td>\n",
       "      <td>0.00</td>\n",
       "      <td>0.00</td>\n",
       "      <td>0.00</td>\n",
       "      <td>1.00</td>\n",
       "      <td>13.00</td>\n",
       "      <td>0.74</td>\n",
       "    </tr>\n",
       "    <tr>\n",
       "      <th>LANDAREA</th>\n",
       "      <td>44695.0</td>\n",
       "      <td>2942.10</td>\n",
       "      <td>2746.44</td>\n",
       "      <td>268.00</td>\n",
       "      <td>1500.00</td>\n",
       "      <td>2090.00</td>\n",
       "      <td>3565.00</td>\n",
       "      <td>155905.00</td>\n",
       "      <td>2844.27</td>\n",
       "    </tr>\n",
       "    <tr>\n",
       "      <th>LATITUDE</th>\n",
       "      <td>44695.0</td>\n",
       "      <td>38.91</td>\n",
       "      <td>0.03</td>\n",
       "      <td>38.82</td>\n",
       "      <td>38.89</td>\n",
       "      <td>38.91</td>\n",
       "      <td>38.94</td>\n",
       "      <td>38.99</td>\n",
       "      <td>38.91</td>\n",
       "    </tr>\n",
       "    <tr>\n",
       "      <th>LONGITUDE</th>\n",
       "      <td>44695.0</td>\n",
       "      <td>-77.01</td>\n",
       "      <td>0.04</td>\n",
       "      <td>-77.11</td>\n",
       "      <td>-77.03</td>\n",
       "      <td>-77.00</td>\n",
       "      <td>-76.98</td>\n",
       "      <td>-76.91</td>\n",
       "      <td>-76.99</td>\n",
       "    </tr>\n",
       "    <tr>\n",
       "      <th>SQUARE</th>\n",
       "      <td>44695.0</td>\n",
       "      <td>2990.60</td>\n",
       "      <td>1718.15</td>\n",
       "      <td>0.00</td>\n",
       "      <td>1308.00</td>\n",
       "      <td>2995.00</td>\n",
       "      <td>4310.00</td>\n",
       "      <td>6277.00</td>\n",
       "      <td>2992.80</td>\n",
       "    </tr>\n",
       "    <tr>\n",
       "      <th>income($)</th>\n",
       "      <td>44695.0</td>\n",
       "      <td>83663.68</td>\n",
       "      <td>59297.93</td>\n",
       "      <td>24096.00</td>\n",
       "      <td>38400.00</td>\n",
       "      <td>62287.00</td>\n",
       "      <td>110753.00</td>\n",
       "      <td>236711.00</td>\n",
       "      <td>60792.46</td>\n",
       "    </tr>\n",
       "    <tr>\n",
       "      <th>Asian</th>\n",
       "      <td>44695.0</td>\n",
       "      <td>0.03</td>\n",
       "      <td>0.03</td>\n",
       "      <td>0.00</td>\n",
       "      <td>0.01</td>\n",
       "      <td>0.02</td>\n",
       "      <td>0.04</td>\n",
       "      <td>0.10</td>\n",
       "      <td>0.03</td>\n",
       "    </tr>\n",
       "    <tr>\n",
       "      <th>Black</th>\n",
       "      <td>44695.0</td>\n",
       "      <td>0.57</td>\n",
       "      <td>0.30</td>\n",
       "      <td>0.05</td>\n",
       "      <td>0.34</td>\n",
       "      <td>0.63</td>\n",
       "      <td>0.88</td>\n",
       "      <td>0.97</td>\n",
       "      <td>0.60</td>\n",
       "    </tr>\n",
       "    <tr>\n",
       "      <th>Hispanic</th>\n",
       "      <td>44695.0</td>\n",
       "      <td>0.09</td>\n",
       "      <td>0.07</td>\n",
       "      <td>0.01</td>\n",
       "      <td>0.03</td>\n",
       "      <td>0.07</td>\n",
       "      <td>0.12</td>\n",
       "      <td>0.25</td>\n",
       "      <td>0.08</td>\n",
       "    </tr>\n",
       "    <tr>\n",
       "      <th>White</th>\n",
       "      <td>44695.0</td>\n",
       "      <td>0.31</td>\n",
       "      <td>0.25</td>\n",
       "      <td>0.01</td>\n",
       "      <td>0.08</td>\n",
       "      <td>0.21</td>\n",
       "      <td>0.48</td>\n",
       "      <td>0.84</td>\n",
       "      <td>0.28</td>\n",
       "    </tr>\n",
       "  </tbody>\n",
       "</table>\n",
       "</div>"
      ],
      "text/plain": [
       "              count       mean        std       min        25%        50%  \\\n",
       "BATHRM      44695.0       2.21       1.04      0.00       1.00       2.00   \n",
       "HF_BATHRM   44695.0       0.64       0.60      0.00       0.00       1.00   \n",
       "AC          44695.0       0.75       0.43      0.00       1.00       1.00   \n",
       "ROOMS       44695.0       7.39       2.28      0.00       6.00       7.00   \n",
       "BEDRM       44695.0       3.41       1.10      0.00       3.00       3.00   \n",
       "AYB         44695.0    1933.63      30.02   1776.00    1912.00    1928.00   \n",
       "EYB         44695.0    1970.01      16.23   1933.00    1960.00    1967.00   \n",
       "SALEDATE    44695.0    2010.61       5.46   2000.00    2006.00    2012.00   \n",
       "PRICE       44695.0  607203.99  578903.03      1.00  280000.00  490000.00   \n",
       "QUALIFIED   44695.0       0.81       0.39      0.00       1.00       1.00   \n",
       "SALE_NUM    44695.0       1.97       1.52      1.00       1.00       1.00   \n",
       "GBA         44695.0    1675.86     757.06    407.00    1200.00    1476.00   \n",
       "KITCHENS    44695.0       1.27       0.68      0.00       1.00       1.00   \n",
       "FIREPLACES  44695.0       0.60       0.88      0.00       0.00       0.00   \n",
       "LANDAREA    44695.0    2942.10    2746.44    268.00    1500.00    2090.00   \n",
       "LATITUDE    44695.0      38.91       0.03     38.82      38.89      38.91   \n",
       "LONGITUDE   44695.0     -77.01       0.04    -77.11     -77.03     -77.00   \n",
       "SQUARE      44695.0    2990.60    1718.15      0.00    1308.00    2995.00   \n",
       "income($)   44695.0   83663.68   59297.93  24096.00   38400.00   62287.00   \n",
       "Asian       44695.0       0.03       0.03      0.00       0.01       0.02   \n",
       "Black       44695.0       0.57       0.30      0.05       0.34       0.63   \n",
       "Hispanic    44695.0       0.09       0.07      0.01       0.03       0.07   \n",
       "White       44695.0       0.31       0.25      0.01       0.08       0.21   \n",
       "\n",
       "                  75%          max     median  \n",
       "BATHRM           3.00        11.00       2.10  \n",
       "HF_BATHRM        1.00         7.00       0.82  \n",
       "AC               1.00         1.00       1.00  \n",
       "ROOMS            8.00        31.00       7.20  \n",
       "BEDRM            4.00        20.00       3.21  \n",
       "AYB           1946.00      2018.00    1930.81  \n",
       "EYB           1974.00      2018.00    1968.50  \n",
       "SALEDATE      2015.00      2018.00    2011.30  \n",
       "PRICE       775000.00  25100000.00  534451.52  \n",
       "QUALIFIED        1.00         1.00       1.00  \n",
       "SALE_NUM         3.00        15.00       1.75  \n",
       "GBA           1912.00     15902.00    1575.93  \n",
       "KITCHENS         1.00        44.00       1.00  \n",
       "FIREPLACES       1.00        13.00       0.74  \n",
       "LANDAREA      3565.00    155905.00    2844.27  \n",
       "LATITUDE        38.94        38.99      38.91  \n",
       "LONGITUDE      -76.98       -76.91     -76.99  \n",
       "SQUARE        4310.00      6277.00    2992.80  \n",
       "income($)   110753.00    236711.00   60792.46  \n",
       "Asian            0.04         0.10       0.03  \n",
       "Black            0.88         0.97       0.60  \n",
       "Hispanic         0.12         0.25       0.08  \n",
       "White            0.48         0.84       0.28  "
      ]
     },
     "execution_count": 20,
     "metadata": {},
     "output_type": "execute_result"
    }
   ],
   "source": [
    "# summary continuous variable \n",
    "numeric_info = df.describe()\n",
    "rounded_numeric_info = numeric_info.T\n",
    "rounded_numeric_info['median'] = rounded_numeric_info.median(axis = 1)\n",
    "rounded_numeric_info.round(2)"
   ]
  },
  {
   "cell_type": "markdown",
   "id": "b246f9ed",
   "metadata": {},
   "source": [
    "# Data Visualization\n"
   ]
  },
  {
   "cell_type": "markdown",
   "id": "20ddcf23",
   "metadata": {},
   "source": [
    "### Housing Market Trend in DC"
   ]
  },
  {
   "cell_type": "code",
   "execution_count": 21,
   "id": "5f159992",
   "metadata": {},
   "outputs": [
    {
     "data": {
      "image/png": "[encoded data removed]",
      "text/plain": [
       "<Figure size 360x360 with 1 Axes>"
      ]
     },
     "metadata": {},
     "output_type": "display_data"
    },
    {
     "data": {
      "text/plain": [
       "<Figure size 432x288 with 0 Axes>"
      ]
     },
     "metadata": {},
     "output_type": "display_data"
    }
   ],
   "source": [
    "sns.set_palette(\"Set2\")\n",
    "sns.set(style='darkgrid', font_scale=1)\n",
    "\n",
    "# calculate mean price by date\n",
    "df_mean_price = df.groupby('SALEDATE')['PRICE'].mean().reset_index()\n",
    "\n",
    "# calculate mean and median price across all sales\n",
    "mean_price = df['PRICE'].mean()\n",
    "median_price = df['PRICE'].median()\n",
    "\n",
    "# Create the plot\n",
    "g = sns.relplot(data=df_mean_price, x=\"SALEDATE\", y=\"PRICE\", kind=\"line\", hue=None)\n",
    "\n",
    "# Add the horizontal line for the mean price\n",
    "plt.axhline(y=mean_price, color='red', linestyle='--')\n",
    "plt.text(2015, mean_price + 10000, \"${:,.0f}\".format(mean_price), color='red')\n",
    "plt.axhline(y=median_price, color='green', linestyle='--')\n",
    "plt.text(2015, median_price + 10000, \"${:,.0f}\".format(median_price), color='green')\n",
    "\n",
    "# Define a function to format the y-tick labels\n",
    "def format_yticks(y, pos):\n",
    "    return \"${:,.0f}\".format(y)\n",
    "\n",
    "# Apply the formatter to the y-axis\n",
    "g.ax.yaxis.set_major_formatter(mtick.FuncFormatter(format_yticks))\n",
    "\n",
    "# Define a function to format the x-tick labels as integers\n",
    "def format_xticks(x, pos):\n",
    "    return int(x)\n",
    "\n",
    "# Apply the formatter to the x-axis\n",
    "g.ax.xaxis.set_major_formatter(mtick.FuncFormatter(format_xticks))\n",
    "\n",
    "plt.xlabel('Year', fontsize=13)\n",
    "plt.ylabel('Sale Price', fontsize=13)\n",
    "plt.title('Chart 1: Mean Housing Price Change by Year', fontsize=14)\n",
    "# Show the plot\n",
    "plt.show()\n",
    "\n",
    "plt.savefig('ovreall price change')"
   ]
  },
  {
   "cell_type": "markdown",
   "id": "024ba8e0",
   "metadata": {},
   "source": [
    "### Housing Price Change Accross Wards by Years"
   ]
  },
  {
   "cell_type": "code",
   "execution_count": 22,
   "id": "a4798453",
   "metadata": {},
   "outputs": [
    {
     "data": {
      "image/png": "[encoded data removed]",
      "text/plain": [
       "<Figure size 434.725x360 with 1 Axes>"
      ]
     },
     "metadata": {},
     "output_type": "display_data"
    }
   ],
   "source": [
    "df_mean_price = df.groupby(['SALEDATE','WARD'])['PRICE'].mean().reset_index()\n",
    "\n",
    "g = sns.relplot(data=df_mean_price, x=\"SALEDATE\", y=\"PRICE\", hue=\"WARD\", kind=\"line\")\n",
    "\n",
    "\n",
    "# Set the legend title and fontsize\n",
    "g._legend.set_title(\"Ward\")\n",
    "\n",
    "# Define a function to format the y-tick labels\n",
    "def format_yticks(y, pos):\n",
    "    return \"${:,.0f}\".format(y)\n",
    "\n",
    "# Apply the formatter to the y-axis\n",
    "g.ax.yaxis.set_major_formatter(mtick.FuncFormatter(format_yticks))\n",
    "\n",
    "# Define a function to format the x-tick labels as integers\n",
    "def format_xticks(x, pos):\n",
    "    return int(x)\n",
    "\n",
    "# Apply the formatter to the x-axis\n",
    "g.ax.xaxis.set_major_formatter(mtick.FuncFormatter(format_xticks))\n",
    "\n",
    "\n",
    "plt.xlabel('Year', fontsize=13)\n",
    "plt.ylabel('Sale Price', fontsize=13)\n",
    "plt.title('Chart 2: Housing Price Change Accross Wards by Year', fontsize=13)\n",
    "\n",
    "# Show the plot\n",
    "\n",
    "\n",
    "plt.savefig('Ward.png', bbox_inches=\"tight\")\n",
    "\n",
    "plt.show()"
   ]
  },
  {
   "cell_type": "markdown",
   "id": "6ef7b690",
   "metadata": {},
   "source": [
    "### Distribution of Sold Home Across Wards accross in DC"
   ]
  },
  {
   "cell_type": "code",
   "execution_count": 23,
   "id": "3d95ea52",
   "metadata": {},
   "outputs": [
    {
     "data": {
      "image/png": "[encoded data removed]",
      "text/plain": [
       "<Figure size 576x432 with 1 Axes>"
      ]
     },
     "metadata": {},
     "output_type": "display_data"
    }
   ],
   "source": [
    "plt.figure(figsize=(8,6))\n",
    "\n",
    "ax = sns.countplot(x='WARD', data=df)\n",
    "\n",
    "plt.title('Chart 1: Distribution of Sold Home Across Wards', fontsize=16)\n",
    "plt.xlabel('Wards', fontsize=16)\n",
    "plt.ylabel('Count of Houses Sold', fontsize=16)\n",
    "\n",
    "ax.set_xticklabels(['Ward {}'.format(i) for i in range(1, 9)])\n",
    "\n",
    "for p in ax.patches:\n",
    "    x = p.get_bbox().get_points()[:,0]\n",
    "    y = p.get_bbox().get_points()[1,1]\n",
    "    ax.annotate('{:.1f}%'.format(100.*y/len(df)), (x.mean(), y), ha='center', va='bottom')\n",
    "\n",
    "plt.savefig('Distribution of Wards')\n",
    "plt.show()"
   ]
  },
  {
   "cell_type": "markdown",
   "id": "255fdfaa",
   "metadata": {},
   "source": [
    "### Distribution of Building Characteristics"
   ]
  },
  {
   "cell_type": "code",
   "execution_count": 24,
   "id": "0a3f87b1",
   "metadata": {},
   "outputs": [
    {
     "data": {
      "image/png": "[encoded data removed]",
      "text/plain": [
       "<Figure size 864x720 with 4 Axes>"
      ]
     },
     "metadata": {},
     "output_type": "display_data"
    }
   ],
   "source": [
    "# create subplots\n",
    "fig, axs = plt.subplots(2, 2, figsize=(12, 10))\n",
    "\n",
    "# plot the first variable\n",
    "sns.countplot(x='ROOF', data=df, ax=axs[0, 0])\n",
    "axs[0, 0].set_xlabel('Style', fontsize=14)\n",
    "axs[0, 0].set_ylabel('Count', fontsize=14)\n",
    "axs[0, 0].set_title('Distribution of Style',fontsize=16)\n",
    "\n",
    "# plot the second variable\n",
    "sns.countplot(x='STRUCT', data=df, ax=axs[0, 1])\n",
    "axs[0, 1].set_xlabel('Structure', fontsize=14)\n",
    "axs[0, 1].set_ylabel('Count', fontsize=14)\n",
    "axs[0, 1].set_title('Distribution of Structure',fontsize=16)\n",
    "\n",
    "# plot the third variable\n",
    "sns.countplot(x='CNDTN', data=df, ax=axs[1, 0])\n",
    "axs[1, 0].set_xlabel('Condition', fontsize=14)\n",
    "axs[1, 0].set_ylabel('Count', fontsize=14)\n",
    "axs[1, 0].set_title('Distribution of Condition', fontsize=16)\n",
    "\n",
    "# plot the fourth variable\n",
    "sns.countplot(x='HEAT', data=df, ax=axs[1, 1])\n",
    "axs[1, 1].set_xlabel('External wall', fontsize=14)\n",
    "axs[1, 1].set_ylabel('Count', fontsize=14)\n",
    "axs[1, 1].set_title('Distribution of Exterior Wall Material',fontsize=16)\n",
    "\n",
    "# adjust subplot spacing\n",
    "fig.tight_layout(pad=3.0)\n",
    "\n",
    "plt.savefig('four')"
   ]
  },
  {
   "cell_type": "markdown",
   "id": "296b3134",
   "metadata": {},
   "source": [
    "### Race Distribution in Sold Home in DC"
   ]
  },
  {
   "cell_type": "code",
   "execution_count": 25,
   "id": "0d0c6f6d",
   "metadata": {},
   "outputs": [
    {
     "data": {
      "image/png": "[encoded data removed]",
      "text/plain": [
       "<Figure size 864x216 with 4 Axes>"
      ]
     },
     "metadata": {},
     "output_type": "display_data"
    }
   ],
   "source": [
    "sns.set(style=\"ticks\")\n",
    "\n",
    "# Melt the dataframe to a long format\n",
    "df_long = df.melt(id_vars=['PRICE'], value_vars=['White', 'Black', 'Asian', 'Hispanic'], var_name='Race')\n",
    "\n",
    "g = sns.FacetGrid(df_long, col='Race', sharey = False, sharex = False)#, col_wrap=2, height=4)\n",
    "g = g.map(sns.scatterplot, 'value', 'PRICE')\n",
    "\n",
    "for ax in g.axes.flat:\n",
    "    _ = ax.set_xlabel('Race Proportion')\n",
    "    _ = ax.set_ylabel('Price($10M)')\n",
    "    \n",
    "g.fig.suptitle('Chart 3: Housing Price Change by Race')\n",
    "\n",
    "# Adjust plot layout\n",
    "plt.subplots_adjust(top=0.85)\n",
    "\n",
    "plt.savefig('RACE.png')\n",
    "plt.show()"
   ]
  },
  {
   "cell_type": "markdown",
   "id": "01f60b10",
   "metadata": {},
   "source": [
    "### Check Features Correlation and Feature Engineering"
   ]
  },
  {
   "cell_type": "code",
   "execution_count": 26,
   "id": "9f24f2ca",
   "metadata": {},
   "outputs": [],
   "source": [
    "# AYB -- building age\n",
    "df[\"building_age\"] = df['SALEDATE']-df[\"AYB\"]\n",
    "\n",
    "# EYB -- years from its last improvement\n",
    "df[\"Year_after_improved\"] = df['SALEDATE']-df[\"EYB\"]\n",
    "\n",
    "# BATHRM -- add full bathroom and half-bathroom together\n",
    "df['BATHRM_TOTAL'] = df['BATHRM'] + df['HF_BATHRM']*0.5\n",
    "\n",
    "# Generate dataset for prediction\n",
    "df1 = df.drop(['LATITUDE','LONGITUDE','SALE_NUM','SALEDATE', 'BATHRM','AYB','EYB','HF_BATHRM'], axis = 1)"
   ]
  },
  {
   "cell_type": "code",
   "execution_count": 27,
   "id": "b4c4af47",
   "metadata": {},
   "outputs": [
    {
     "data": {
      "text/html": [
       "<div>\n",
       "<style scoped>\n",
       "    .dataframe tbody tr th:only-of-type {\n",
       "        vertical-align: middle;\n",
       "    }\n",
       "\n",
       "    .dataframe tbody tr th {\n",
       "        vertical-align: top;\n",
       "    }\n",
       "\n",
       "    .dataframe thead th {\n",
       "        text-align: right;\n",
       "    }\n",
       "</style>\n",
       "<table border=\"1\" class=\"dataframe\">\n",
       "  <thead>\n",
       "    <tr style=\"text-align: right;\">\n",
       "      <th></th>\n",
       "      <th>HEAT</th>\n",
       "      <th>AC</th>\n",
       "      <th>ROOMS</th>\n",
       "      <th>BEDRM</th>\n",
       "      <th>PRICE</th>\n",
       "      <th>QUALIFIED</th>\n",
       "      <th>GBA</th>\n",
       "      <th>STYLE</th>\n",
       "      <th>STRUCT</th>\n",
       "      <th>CNDTN</th>\n",
       "      <th>...</th>\n",
       "      <th>WARD</th>\n",
       "      <th>SQUARE</th>\n",
       "      <th>income($)</th>\n",
       "      <th>Asian</th>\n",
       "      <th>Black</th>\n",
       "      <th>Hispanic</th>\n",
       "      <th>White</th>\n",
       "      <th>building_age</th>\n",
       "      <th>Year_after_improved</th>\n",
       "      <th>BATHRM_TOTAL</th>\n",
       "    </tr>\n",
       "  </thead>\n",
       "  <tbody>\n",
       "    <tr>\n",
       "      <th>0</th>\n",
       "      <td>Warm Cool</td>\n",
       "      <td>1</td>\n",
       "      <td>8</td>\n",
       "      <td>4</td>\n",
       "      <td>1095000.0</td>\n",
       "      <td>1</td>\n",
       "      <td>2522.0</td>\n",
       "      <td>3 Story</td>\n",
       "      <td>Row Inside</td>\n",
       "      <td>Good</td>\n",
       "      <td>...</td>\n",
       "      <td>Ward 2</td>\n",
       "      <td>152</td>\n",
       "      <td>47300</td>\n",
       "      <td>0.08</td>\n",
       "      <td>0.20</td>\n",
       "      <td>0.10</td>\n",
       "      <td>0.65</td>\n",
       "      <td>93.0</td>\n",
       "      <td>31</td>\n",
       "      <td>4.0</td>\n",
       "    </tr>\n",
       "    <tr>\n",
       "      <th>1</th>\n",
       "      <td>Hot Water Rad</td>\n",
       "      <td>1</td>\n",
       "      <td>9</td>\n",
       "      <td>5</td>\n",
       "      <td>2100000.0</td>\n",
       "      <td>1</td>\n",
       "      <td>2522.0</td>\n",
       "      <td>3 Story</td>\n",
       "      <td>Row Inside</td>\n",
       "      <td>Very Good</td>\n",
       "      <td>...</td>\n",
       "      <td>Ward 2</td>\n",
       "      <td>152</td>\n",
       "      <td>182019</td>\n",
       "      <td>0.09</td>\n",
       "      <td>0.09</td>\n",
       "      <td>0.11</td>\n",
       "      <td>0.67</td>\n",
       "      <td>106.0</td>\n",
       "      <td>32</td>\n",
       "      <td>3.5</td>\n",
       "    </tr>\n",
       "    <tr>\n",
       "      <th>2</th>\n",
       "      <td>Hot Water Rad</td>\n",
       "      <td>1</td>\n",
       "      <td>8</td>\n",
       "      <td>5</td>\n",
       "      <td>1602000.0</td>\n",
       "      <td>1</td>\n",
       "      <td>2484.0</td>\n",
       "      <td>3 Story</td>\n",
       "      <td>Row Inside</td>\n",
       "      <td>Good</td>\n",
       "      <td>...</td>\n",
       "      <td>Ward 2</td>\n",
       "      <td>152</td>\n",
       "      <td>47300</td>\n",
       "      <td>0.08</td>\n",
       "      <td>0.20</td>\n",
       "      <td>0.10</td>\n",
       "      <td>0.65</td>\n",
       "      <td>106.0</td>\n",
       "      <td>22</td>\n",
       "      <td>3.5</td>\n",
       "    </tr>\n",
       "    <tr>\n",
       "      <th>4</th>\n",
       "      <td>Hot Water Rad</td>\n",
       "      <td>1</td>\n",
       "      <td>8</td>\n",
       "      <td>4</td>\n",
       "      <td>1050000.0</td>\n",
       "      <td>1</td>\n",
       "      <td>2401.0</td>\n",
       "      <td>3 Story</td>\n",
       "      <td>Row Inside</td>\n",
       "      <td>Average</td>\n",
       "      <td>...</td>\n",
       "      <td>Ward 2</td>\n",
       "      <td>152</td>\n",
       "      <td>116477</td>\n",
       "      <td>0.09</td>\n",
       "      <td>0.13</td>\n",
       "      <td>0.10</td>\n",
       "      <td>0.66</td>\n",
       "      <td>105.0</td>\n",
       "      <td>39</td>\n",
       "      <td>3.5</td>\n",
       "    </tr>\n",
       "    <tr>\n",
       "      <th>5</th>\n",
       "      <td>Warm Cool</td>\n",
       "      <td>1</td>\n",
       "      <td>7</td>\n",
       "      <td>3</td>\n",
       "      <td>1430000.0</td>\n",
       "      <td>1</td>\n",
       "      <td>1488.0</td>\n",
       "      <td>2 Story</td>\n",
       "      <td>Row Inside</td>\n",
       "      <td>Very Good</td>\n",
       "      <td>...</td>\n",
       "      <td>Ward 2</td>\n",
       "      <td>152</td>\n",
       "      <td>198594</td>\n",
       "      <td>0.10</td>\n",
       "      <td>0.09</td>\n",
       "      <td>0.12</td>\n",
       "      <td>0.66</td>\n",
       "      <td>110.0</td>\n",
       "      <td>51</td>\n",
       "      <td>3.5</td>\n",
       "    </tr>\n",
       "  </tbody>\n",
       "</table>\n",
       "<p>5 rows × 26 columns</p>\n",
       "</div>"
      ],
      "text/plain": [
       "            HEAT  AC  ROOMS  BEDRM      PRICE  QUALIFIED     GBA    STYLE  \\\n",
       "0      Warm Cool   1      8      4  1095000.0          1  2522.0  3 Story   \n",
       "1  Hot Water Rad   1      9      5  2100000.0          1  2522.0  3 Story   \n",
       "2  Hot Water Rad   1      8      5  1602000.0          1  2484.0  3 Story   \n",
       "4  Hot Water Rad   1      8      4  1050000.0          1  2401.0  3 Story   \n",
       "5      Warm Cool   1      7      3  1430000.0          1  1488.0  2 Story   \n",
       "\n",
       "       STRUCT      CNDTN  ...    WARD SQUARE income($)  Asian  Black  \\\n",
       "0  Row Inside       Good  ...  Ward 2    152     47300   0.08   0.20   \n",
       "1  Row Inside  Very Good  ...  Ward 2    152    182019   0.09   0.09   \n",
       "2  Row Inside       Good  ...  Ward 2    152     47300   0.08   0.20   \n",
       "4  Row Inside    Average  ...  Ward 2    152    116477   0.09   0.13   \n",
       "5  Row Inside  Very Good  ...  Ward 2    152    198594   0.10   0.09   \n",
       "\n",
       "   Hispanic White  building_age  Year_after_improved  BATHRM_TOTAL  \n",
       "0      0.10  0.65          93.0                   31           4.0  \n",
       "1      0.11  0.67         106.0                   32           3.5  \n",
       "2      0.10  0.65         106.0                   22           3.5  \n",
       "4      0.10  0.66         105.0                   39           3.5  \n",
       "5      0.12  0.66         110.0                   51           3.5  \n",
       "\n",
       "[5 rows x 26 columns]"
      ]
     },
     "execution_count": 27,
     "metadata": {},
     "output_type": "execute_result"
    }
   ],
   "source": [
    "df1.head()"
   ]
  },
  {
   "cell_type": "code",
   "execution_count": 28,
   "id": "b3604b68",
   "metadata": {},
   "outputs": [
    {
     "data": {
      "text/plain": [
       "(44695, 26)"
      ]
     },
     "execution_count": 28,
     "metadata": {},
     "output_type": "execute_result"
    }
   ],
   "source": [
    "df1.shape"
   ]
  },
  {
   "cell_type": "code",
   "execution_count": 29,
   "id": "9b4671c4",
   "metadata": {},
   "outputs": [
    {
     "data": {
      "text/plain": [
       "PRICE                  1.000000\n",
       "GBA                    0.613407\n",
       "Asian                  0.574141\n",
       "White                  0.542745\n",
       "income($)              0.527751\n",
       "BATHRM_TOTAL           0.527398\n",
       "FIREPLACES             0.509457\n",
       "LANDAREA               0.404099\n",
       "BEDRM                  0.357114\n",
       "ROOMS                  0.331970\n",
       "AC                     0.204429\n",
       "Hispanic               0.200329\n",
       "building_age           0.170855\n",
       "QUALIFIED              0.161706\n",
       "KITCHENS               0.044082\n",
       "Year_after_improved   -0.192829\n",
       "SQUARE                -0.418723\n",
       "Black                 -0.563001\n",
       "Name: PRICE, dtype: float64"
      ]
     },
     "execution_count": 29,
     "metadata": {},
     "output_type": "execute_result"
    }
   ],
   "source": [
    "# check correlation between price and variables\n",
    "corr_matrix = df1.corr()\n",
    "corr_matrix[\"PRICE\"].sort_values(ascending=False)"
   ]
  },
  {
   "cell_type": "code",
   "execution_count": 30,
   "id": "9fa0e4b1",
   "metadata": {},
   "outputs": [
    {
     "data": {
      "text/plain": [
       "Text(0.5, 1.0, 'Correlation matrix of variables')"
      ]
     },
     "execution_count": 30,
     "metadata": {},
     "output_type": "execute_result"
    },
    {
     "data": {
      "image/png": "[encoded data removed]",
      "text/plain": [
       "<Figure size 648x504 with 2 Axes>"
      ]
     },
     "metadata": {},
     "output_type": "display_data"
    }
   ],
   "source": [
    "sns.set_theme(style=\"white\")\n",
    "\n",
    "# Compute the correlation matrix\n",
    "corr = df1.corr()\n",
    "\n",
    "# Generate a mask for the upper triangle\n",
    "mask = np.triu(np.ones_like(corr, dtype=bool))\n",
    "\n",
    "# Set up the matplotlib figure\n",
    "f, ax = plt.subplots(figsize=(9, 7))\n",
    "\n",
    "# Generate a custom diverging colormap\n",
    "cmap = sns.diverging_palette(230, 20, as_cmap=True)\n",
    "\n",
    "# Draw the heatmap with the mask and correct aspect ratio\n",
    "sns.heatmap(corr, mask=mask, cmap=cmap, vmax=1, center=0,\n",
    "            square=True, linewidths=.5, cbar_kws={\"shrink\": .5})\n",
    "\n",
    "ax.set_title(\"Correlation matrix of variables\", fontsize = 15)"
   ]
  },
  {
   "cell_type": "markdown",
   "id": "b91ceef1",
   "metadata": {},
   "source": [
    "# Prediction\n",
    "The prediction of housing prices include LASSO, decision tree, random forest and XGBoost model."
   ]
  },
  {
   "cell_type": "code",
   "execution_count": 31,
   "id": "ce18c161",
   "metadata": {},
   "outputs": [],
   "source": [
    "import statsmodels.api as sm\n",
    "from sklearn.model_selection import cross_val_score, validation_curve, RandomizedSearchCV, GridSearchCV, train_test_split, RepeatedKFold\n",
    "from sklearn import metrics\n",
    "from sklearn.metrics import roc_curve, auc, r2_score\n",
    "from sklearn.tree import DecisionTreeRegressor\n",
    "from sklearn.neighbors import KNeighborsRegressor\n",
    "from sklearn.ensemble import RandomForestRegressor\n",
    "from sklearn.linear_model import LassoCV, Lasso, LinearRegression, LogisticRegression\n",
    "from sklearn.metrics import mean_squared_error\n",
    "from sklearn.preprocessing import StandardScaler\n",
    "import xgboost as xgb\n",
    "from xgboost import plot_importance"
   ]
  },
  {
   "cell_type": "markdown",
   "id": "43aa21b1",
   "metadata": {},
   "source": [
    "### Create dummies and Scaling"
   ]
  },
  {
   "cell_type": "code",
   "execution_count": 32,
   "id": "231dcdd5",
   "metadata": {},
   "outputs": [],
   "source": [
    "# get dummies for categorical variables\n",
    "cat_cols = ['HEAT', 'STYLE','STRUCT','CNDTN', 'EXTWALL', 'ROOF', 'INTWALL', 'WARD']\n",
    "\n",
    "for col in cat_cols:\n",
    "    dummies = pd.get_dummies(df1[col], drop_first = True)\n",
    "    df1[dummies.columns] = dummies\n",
    "    df1.drop(col, axis=1, inplace=True)\n",
    "\n",
    "# remove outliers\n",
    "df2=df1[(np.abs(stats.zscore(df1)) < 6).all(axis=1)]"
   ]
  },
  {
   "cell_type": "code",
   "execution_count": 33,
   "id": "87737c2c",
   "metadata": {},
   "outputs": [],
   "source": [
    "# apply log transformation to target variable\n",
    "df2 = df2.assign(Price_log=np.log(df2['PRICE']))\n",
    "df2 = df2.drop(['PRICE'], axis=1)\n",
    "# Select the numeric columns\n",
    "numeric_cols = ['ROOMS', 'BEDRM', 'BATHRM_TOTAL', 'KITCHENS', 'FIREPLACES', 'Year_after_improved', 'LANDAREA', 'building_age', 'SQUARE', \n",
    "                'income($)', 'Hispanic', 'White', 'Asian', 'Black']"
   ]
  },
  {
   "cell_type": "code",
   "execution_count": 34,
   "id": "f79b3b21",
   "metadata": {},
   "outputs": [],
   "source": [
    "# Create a StandardScaler object\n",
    "scaler = StandardScaler()\n",
    "\n",
    "# Scale the numeric columns in place\n",
    "df2[numeric_cols] = scaler.fit_transform(df2[numeric_cols])"
   ]
  },
  {
   "cell_type": "code",
   "execution_count": 35,
   "id": "69203be9",
   "metadata": {},
   "outputs": [],
   "source": [
    "# create feature matrix and target array\n",
    "y = df2['Price_log']\n",
    "X = df2.drop(['Price_log'], axis = 1)"
   ]
  },
  {
   "cell_type": "code",
   "execution_count": 36,
   "id": "68aa83a7",
   "metadata": {},
   "outputs": [
    {
     "data": {
      "text/html": [
       "<div>\n",
       "<style scoped>\n",
       "    .dataframe tbody tr th:only-of-type {\n",
       "        vertical-align: middle;\n",
       "    }\n",
       "\n",
       "    .dataframe tbody tr th {\n",
       "        vertical-align: top;\n",
       "    }\n",
       "\n",
       "    .dataframe thead th {\n",
       "        text-align: right;\n",
       "    }\n",
       "</style>\n",
       "<table border=\"1\" class=\"dataframe\">\n",
       "  <thead>\n",
       "    <tr style=\"text-align: right;\">\n",
       "      <th></th>\n",
       "      <th>AC</th>\n",
       "      <th>ROOMS</th>\n",
       "      <th>BEDRM</th>\n",
       "      <th>QUALIFIED</th>\n",
       "      <th>GBA</th>\n",
       "      <th>KITCHENS</th>\n",
       "      <th>FIREPLACES</th>\n",
       "      <th>LANDAREA</th>\n",
       "      <th>SQUARE</th>\n",
       "      <th>income($)</th>\n",
       "      <th>...</th>\n",
       "      <th>Hardwood</th>\n",
       "      <th>Hardwood/Carp</th>\n",
       "      <th>Wood Floor</th>\n",
       "      <th>Ward 2</th>\n",
       "      <th>Ward 3</th>\n",
       "      <th>Ward 4</th>\n",
       "      <th>Ward 5</th>\n",
       "      <th>Ward 6</th>\n",
       "      <th>Ward 7</th>\n",
       "      <th>Ward 8</th>\n",
       "    </tr>\n",
       "  </thead>\n",
       "  <tbody>\n",
       "    <tr>\n",
       "      <th>0</th>\n",
       "      <td>1</td>\n",
       "      <td>0.293541</td>\n",
       "      <td>0.572291</td>\n",
       "      <td>1</td>\n",
       "      <td>2522.0</td>\n",
       "      <td>1.120023</td>\n",
       "      <td>5.391131</td>\n",
       "      <td>-0.537122</td>\n",
       "      <td>-1.682667</td>\n",
       "      <td>-0.604598</td>\n",
       "      <td>...</td>\n",
       "      <td>1</td>\n",
       "      <td>0</td>\n",
       "      <td>0</td>\n",
       "      <td>1</td>\n",
       "      <td>0</td>\n",
       "      <td>0</td>\n",
       "      <td>0</td>\n",
       "      <td>0</td>\n",
       "      <td>0</td>\n",
       "      <td>0</td>\n",
       "    </tr>\n",
       "    <tr>\n",
       "      <th>1</th>\n",
       "      <td>1</td>\n",
       "      <td>0.743578</td>\n",
       "      <td>1.508515</td>\n",
       "      <td>1</td>\n",
       "      <td>2522.0</td>\n",
       "      <td>1.120023</td>\n",
       "      <td>4.173095</td>\n",
       "      <td>-0.537122</td>\n",
       "      <td>-1.682667</td>\n",
       "      <td>1.675537</td>\n",
       "      <td>...</td>\n",
       "      <td>1</td>\n",
       "      <td>0</td>\n",
       "      <td>0</td>\n",
       "      <td>1</td>\n",
       "      <td>0</td>\n",
       "      <td>0</td>\n",
       "      <td>0</td>\n",
       "      <td>0</td>\n",
       "      <td>0</td>\n",
       "      <td>0</td>\n",
       "    </tr>\n",
       "    <tr>\n",
       "      <th>2</th>\n",
       "      <td>1</td>\n",
       "      <td>0.293541</td>\n",
       "      <td>1.508515</td>\n",
       "      <td>1</td>\n",
       "      <td>2484.0</td>\n",
       "      <td>1.120023</td>\n",
       "      <td>2.955059</td>\n",
       "      <td>-0.537122</td>\n",
       "      <td>-1.682667</td>\n",
       "      <td>-0.604598</td>\n",
       "      <td>...</td>\n",
       "      <td>1</td>\n",
       "      <td>0</td>\n",
       "      <td>0</td>\n",
       "      <td>1</td>\n",
       "      <td>0</td>\n",
       "      <td>0</td>\n",
       "      <td>0</td>\n",
       "      <td>0</td>\n",
       "      <td>0</td>\n",
       "      <td>0</td>\n",
       "    </tr>\n",
       "    <tr>\n",
       "      <th>4</th>\n",
       "      <td>1</td>\n",
       "      <td>0.293541</td>\n",
       "      <td>0.572291</td>\n",
       "      <td>1</td>\n",
       "      <td>2401.0</td>\n",
       "      <td>1.120023</td>\n",
       "      <td>0.518987</td>\n",
       "      <td>-0.561596</td>\n",
       "      <td>-1.682667</td>\n",
       "      <td>0.566231</td>\n",
       "      <td>...</td>\n",
       "      <td>1</td>\n",
       "      <td>0</td>\n",
       "      <td>0</td>\n",
       "      <td>1</td>\n",
       "      <td>0</td>\n",
       "      <td>0</td>\n",
       "      <td>0</td>\n",
       "      <td>0</td>\n",
       "      <td>0</td>\n",
       "      <td>0</td>\n",
       "    </tr>\n",
       "    <tr>\n",
       "      <th>5</th>\n",
       "      <td>1</td>\n",
       "      <td>-0.156495</td>\n",
       "      <td>-0.363934</td>\n",
       "      <td>1</td>\n",
       "      <td>1488.0</td>\n",
       "      <td>1.120023</td>\n",
       "      <td>0.518987</td>\n",
       "      <td>-0.655333</td>\n",
       "      <td>-1.682667</td>\n",
       "      <td>1.956071</td>\n",
       "      <td>...</td>\n",
       "      <td>1</td>\n",
       "      <td>0</td>\n",
       "      <td>0</td>\n",
       "      <td>1</td>\n",
       "      <td>0</td>\n",
       "      <td>0</td>\n",
       "      <td>0</td>\n",
       "      <td>0</td>\n",
       "      <td>0</td>\n",
       "      <td>0</td>\n",
       "    </tr>\n",
       "  </tbody>\n",
       "</table>\n",
       "<p>5 rows × 49 columns</p>\n",
       "</div>"
      ],
      "text/plain": [
       "   AC     ROOMS     BEDRM  QUALIFIED     GBA  KITCHENS  FIREPLACES  LANDAREA  \\\n",
       "0   1  0.293541  0.572291          1  2522.0  1.120023    5.391131 -0.537122   \n",
       "1   1  0.743578  1.508515          1  2522.0  1.120023    4.173095 -0.537122   \n",
       "2   1  0.293541  1.508515          1  2484.0  1.120023    2.955059 -0.537122   \n",
       "4   1  0.293541  0.572291          1  2401.0  1.120023    0.518987 -0.561596   \n",
       "5   1 -0.156495 -0.363934          1  1488.0  1.120023    0.518987 -0.655333   \n",
       "\n",
       "     SQUARE  income($)  ...  Hardwood  Hardwood/Carp  Wood Floor  Ward 2  \\\n",
       "0 -1.682667  -0.604598  ...         1              0           0       1   \n",
       "1 -1.682667   1.675537  ...         1              0           0       1   \n",
       "2 -1.682667  -0.604598  ...         1              0           0       1   \n",
       "4 -1.682667   0.566231  ...         1              0           0       1   \n",
       "5 -1.682667   1.956071  ...         1              0           0       1   \n",
       "\n",
       "   Ward 3  Ward 4  Ward 5  Ward 6  Ward 7  Ward 8  \n",
       "0       0       0       0       0       0       0  \n",
       "1       0       0       0       0       0       0  \n",
       "2       0       0       0       0       0       0  \n",
       "4       0       0       0       0       0       0  \n",
       "5       0       0       0       0       0       0  \n",
       "\n",
       "[5 rows x 49 columns]"
      ]
     },
     "execution_count": 36,
     "metadata": {},
     "output_type": "execute_result"
    }
   ],
   "source": [
    "X.head()"
   ]
  },
  {
   "cell_type": "code",
   "execution_count": 37,
   "id": "18b41a96",
   "metadata": {},
   "outputs": [
    {
     "data": {
      "text/plain": [
       "(41649, 49)"
      ]
     },
     "execution_count": 37,
     "metadata": {},
     "output_type": "execute_result"
    }
   ],
   "source": [
    "X.shape"
   ]
  },
  {
   "cell_type": "markdown",
   "id": "c0527636",
   "metadata": {},
   "source": [
    "### Parametric model\n",
    "### Lasso"
   ]
  },
  {
   "cell_type": "code",
   "execution_count": 38,
   "id": "ac4071fd",
   "metadata": {},
   "outputs": [],
   "source": [
    "# Create evaluation function\n",
    "def performance(model, Xtest, ytest):\n",
    "    predict = model.predict(Xtest)\n",
    "    print('MAE:', metrics.mean_absolute_error(ytest, predict))\n",
    "    print('MSE:', metrics.mean_squared_error(ytest, predict))\n",
    "    print('RMSE:', np.sqrt(metrics.mean_squared_error(ytest, predict)))\n",
    "    print( 'R2', r2_score(ytest, predict))"
   ]
  },
  {
   "cell_type": "code",
   "execution_count": 39,
   "id": "3fa1315d",
   "metadata": {},
   "outputs": [
    {
     "name": "stdout",
     "output_type": "stream",
     "text": [
      "MAE: 0.5295427254196005\n",
      "MSE: 0.451016956370987\n",
      "RMSE: 0.6715779600098465\n",
      "R2 0.21939879452902888\n"
     ]
    }
   ],
   "source": [
    "# Split the data\n",
    "Xtrain, Xtest, ytrain, ytest = train_test_split(X, y, test_size=0.2, random_state = 0)\n",
    "\n",
    "# Fit Lasso regression\n",
    "lasso = Lasso()\n",
    "lasso.fit(Xtrain, ytrain)\n",
    "performance(lasso, Xtest, ytest)"
   ]
  },
  {
   "cell_type": "code",
   "execution_count": 40,
   "id": "aa5e7992",
   "metadata": {},
   "outputs": [
    {
     "name": "stdout",
     "output_type": "stream",
     "text": [
      "Optimal alpha: 0.005\n"
     ]
    }
   ],
   "source": [
    "# Create a LassoCV object with the list of alpha values to search\n",
    "lasso_cv = LassoCV(alphas=[0.005, 0.01, 0.1, 0.5], cv=6)\n",
    "\n",
    "# Fit the model to the data\n",
    "lasso_cv.fit(Xtrain, ytrain)\n",
    "\n",
    "# Print the optimal alpha value\n",
    "print('Optimal alpha:', lasso_cv.alpha_)"
   ]
  },
  {
   "cell_type": "code",
   "execution_count": 41,
   "id": "464a213e",
   "metadata": {},
   "outputs": [
    {
     "name": "stdout",
     "output_type": "stream",
     "text": [
      "MAE: 0.2783346685027264\n",
      "MSE: 0.16080777323994525\n",
      "RMSE: 0.40100844534740815\n",
      "R2 0.7216806599684669\n"
     ]
    }
   ],
   "source": [
    "# Fit the best Lasso model\n",
    "Lasso = Lasso(alpha=lasso_cv.alpha_)\n",
    "Lasso.fit(Xtrain, ytrain)\n",
    "\n",
    "# Evaluate Lasso model with optimal alpha value\n",
    "performance(Lasso, Xtest, ytest)"
   ]
  },
  {
   "cell_type": "code",
   "execution_count": 42,
   "id": "c11dc579",
   "metadata": {},
   "outputs": [
    {
     "data": {
      "image/png": "[encoded data removed]",
      "text/plain": [
       "<Figure size 432x288 with 1 Axes>"
      ]
     },
     "metadata": {},
     "output_type": "display_data"
    }
   ],
   "source": [
    "# Plot mean square error\n",
    "fig, ax = plt.subplots(figsize=(6,4))\n",
    "ax.semilogx(lasso_cv.alphas_, lasso_cv.mse_path_, \":\")\n",
    "ax.plot(\n",
    "    lasso_cv.alphas_ ,\n",
    "    lasso_cv.mse_path_.mean(axis=-1),\n",
    "    label=\"Average across the folds\",\n",
    "    linewidth=2,\n",
    ")\n",
    "ax.axvline(\n",
    "    lasso_cv.alpha_, linestyle=\"--\", label=\"alpha\"\n",
    ")\n",
    "ax.set_xlabel(\"alphas\")\n",
    "ax.set_ylabel(\"Mean square error\")\n",
    "ax.set_title(\"Mean square error on each fold\")\n",
    "ax.legend()\n",
    "fig.savefig('mse_plot.png', bbox_inches='tight')\n",
    "plt.show()"
   ]
  },
  {
   "cell_type": "code",
   "execution_count": 43,
   "id": "c9ac3bdf",
   "metadata": {},
   "outputs": [
    {
     "data": {
      "text/html": [
       "<div>\n",
       "<style scoped>\n",
       "    .dataframe tbody tr th:only-of-type {\n",
       "        vertical-align: middle;\n",
       "    }\n",
       "\n",
       "    .dataframe tbody tr th {\n",
       "        vertical-align: top;\n",
       "    }\n",
       "\n",
       "    .dataframe thead th {\n",
       "        text-align: right;\n",
       "    }\n",
       "</style>\n",
       "<table border=\"1\" class=\"dataframe\">\n",
       "  <thead>\n",
       "    <tr style=\"text-align: right;\">\n",
       "      <th></th>\n",
       "      <th>Variable</th>\n",
       "      <th>Lasso Coef(alpha = 0.005)</th>\n",
       "    </tr>\n",
       "  </thead>\n",
       "  <tbody>\n",
       "    <tr>\n",
       "      <th>30</th>\n",
       "      <td>Very Good</td>\n",
       "      <td>0.336242</td>\n",
       "    </tr>\n",
       "    <tr>\n",
       "      <th>3</th>\n",
       "      <td>QUALIFIED</td>\n",
       "      <td>0.313459</td>\n",
       "    </tr>\n",
       "    <tr>\n",
       "      <th>29</th>\n",
       "      <td>Good</td>\n",
       "      <td>0.168747</td>\n",
       "    </tr>\n",
       "    <tr>\n",
       "      <th>9</th>\n",
       "      <td>income($)</td>\n",
       "      <td>0.146721</td>\n",
       "    </tr>\n",
       "    <tr>\n",
       "      <th>16</th>\n",
       "      <td>BATHRM_TOTAL</td>\n",
       "      <td>0.115195</td>\n",
       "    </tr>\n",
       "    <tr>\n",
       "      <th>0</th>\n",
       "      <td>AC</td>\n",
       "      <td>0.082038</td>\n",
       "    </tr>\n",
       "    <tr>\n",
       "      <th>14</th>\n",
       "      <td>building_age</td>\n",
       "      <td>0.080473</td>\n",
       "    </tr>\n",
       "    <tr>\n",
       "      <th>45</th>\n",
       "      <td>Ward 5</td>\n",
       "      <td>0.068347</td>\n",
       "    </tr>\n",
       "    <tr>\n",
       "      <th>6</th>\n",
       "      <td>FIREPLACES</td>\n",
       "      <td>0.058750</td>\n",
       "    </tr>\n",
       "    <tr>\n",
       "      <th>7</th>\n",
       "      <td>LANDAREA</td>\n",
       "      <td>0.033090</td>\n",
       "    </tr>\n",
       "    <tr>\n",
       "      <th>12</th>\n",
       "      <td>Hispanic</td>\n",
       "      <td>0.029134</td>\n",
       "    </tr>\n",
       "    <tr>\n",
       "      <th>2</th>\n",
       "      <td>BEDRM</td>\n",
       "      <td>0.002481</td>\n",
       "    </tr>\n",
       "    <tr>\n",
       "      <th>4</th>\n",
       "      <td>GBA</td>\n",
       "      <td>0.000163</td>\n",
       "    </tr>\n",
       "    <tr>\n",
       "      <th>47</th>\n",
       "      <td>Ward 7</td>\n",
       "      <td>0.000000</td>\n",
       "    </tr>\n",
       "    <tr>\n",
       "      <th>36</th>\n",
       "      <td>Metal- Sms</td>\n",
       "      <td>-0.000000</td>\n",
       "    </tr>\n",
       "  </tbody>\n",
       "</table>\n",
       "</div>"
      ],
      "text/plain": [
       "        Variable  Lasso Coef(alpha = 0.005)\n",
       "30     Very Good                   0.336242\n",
       "3      QUALIFIED                   0.313459\n",
       "29          Good                   0.168747\n",
       "9      income($)                   0.146721\n",
       "16  BATHRM_TOTAL                   0.115195\n",
       "0             AC                   0.082038\n",
       "14  building_age                   0.080473\n",
       "45        Ward 5                   0.068347\n",
       "6     FIREPLACES                   0.058750\n",
       "7       LANDAREA                   0.033090\n",
       "12      Hispanic                   0.029134\n",
       "2          BEDRM                   0.002481\n",
       "4            GBA                   0.000163\n",
       "47        Ward 7                   0.000000\n",
       "36    Metal- Sms                  -0.000000"
      ]
     },
     "execution_count": 43,
     "metadata": {},
     "output_type": "execute_result"
    }
   ],
   "source": [
    "df_compare = pd.DataFrame({'Variable': X.columns, 'Lasso Coef(alpha = 0.005)': Lasso.coef_})\n",
    "df_compare = df_compare.sort_values(by='Lasso Coef(alpha = 0.005)', ascending=False)\n",
    "df_compare.head(15)"
   ]
  },
  {
   "cell_type": "markdown",
   "id": "cbbf56e0",
   "metadata": {},
   "source": [
    "### Non-parametric model\n",
    "### Decision Tree"
   ]
  },
  {
   "cell_type": "code",
   "execution_count": 44,
   "id": "612c63c6",
   "metadata": {},
   "outputs": [
    {
     "data": {
      "image/png": "[encoded data removed]",
      "text/plain": [
       "<Figure size 432x288 with 1 Axes>"
      ]
     },
     "metadata": {},
     "output_type": "display_data"
    }
   ],
   "source": [
    "# Fit the model\n",
    "DT = DecisionTreeRegressor(random_state = 20)\n",
    "param_range = np.arange(1,11)\n",
    "train_scores, test_scores = validation_curve(DT, X, y, param_name='max_depth', param_range=param_range, cv=6)\n",
    "train_mean = np.mean(train_scores, axis=1)\n",
    "test_mean = np.mean(test_scores, axis=1)\n",
    "\n",
    "fig1 = plt.figure()\n",
    "plt.plot(param_range, train_mean, label='Train')\n",
    "plt.plot(param_range, test_mean, label='Test')\n",
    "plt.xlabel('Maximum Depth')\n",
    "plt.ylabel('Score')\n",
    "plt.title('Decision Tree Validation Curve')\n",
    "plt.legend()\n",
    "plt.savefig('DTVC.png')\n",
    "plt.show()"
   ]
  },
  {
   "cell_type": "code",
   "execution_count": 45,
   "id": "d4874e3d",
   "metadata": {},
   "outputs": [
    {
     "name": "stdout",
     "output_type": "stream",
     "text": [
      "MAE: 0.28245986408204565\n",
      "MSE: 0.1668061920445419\n",
      "RMSE: 0.4084191377060359\n",
      "R2 0.711298848633781\n"
     ]
    }
   ],
   "source": [
    "# Fit decision tree with max_depth = 7\n",
    "tree = DecisionTreeRegressor(max_depth = 7, random_state = 20)\n",
    "tree.fit(Xtrain, ytrain)\n",
    "\n",
    "# Evaluate Decision tree performance\n",
    "performance(tree, Xtest, ytest)"
   ]
  },
  {
   "cell_type": "markdown",
   "id": "644fc2d3",
   "metadata": {},
   "source": [
    "### Parameter tuning (Grid Search) -- Decision Tree"
   ]
  },
  {
   "cell_type": "code",
   "execution_count": 46,
   "id": "71c6cb72",
   "metadata": {},
   "outputs": [
    {
     "name": "stdout",
     "output_type": "stream",
     "text": [
      "{'max_depth': 10, 'max_leaf_nodes': 50, 'min_samples_leaf': 7}\n"
     ]
    }
   ],
   "source": [
    "# specify the hyperparameter grid to search over\n",
    "param_grid = {\n",
    "    'max_depth': [3, 4, 5, 6, 7, 8, 9, 10, 11, 12],\n",
    "    'min_samples_leaf': [1, 2, 3, 4, 5, 6, 7],\n",
    "    'max_leaf_nodes': [5, 10, 20, 30, 40, 50]\n",
    "}\n",
    "\n",
    "# create the grid search object\n",
    "grid_search = GridSearchCV(\n",
    "    estimator=DecisionTreeRegressor(),\n",
    "    param_grid=param_grid,\n",
    "    cv=6,  # number of cross-validation folds to use\n",
    "    scoring='neg_mean_squared_error',  # metric to optimize\n",
    "    n_jobs=-1  # number of CPU cores to use in parallel (-1 means all available cores)\n",
    ")\n",
    "\n",
    "# fit the grid search object to the data\n",
    "grid_search.fit(Xtrain, ytrain)\n",
    "\n",
    "# print the best hyperparameters found by the grid search\n",
    "print(grid_search.best_params_)"
   ]
  },
  {
   "cell_type": "code",
   "execution_count": 47,
   "id": "9e3a43ad",
   "metadata": {},
   "outputs": [
    {
     "name": "stdout",
     "output_type": "stream",
     "text": [
      "MAE: 0.2901985377671137\n",
      "MSE: 0.17021990737140694\n",
      "RMSE: 0.41257715323489125\n",
      "R2 0.7053905335213583\n"
     ]
    }
   ],
   "source": [
    "# Evaluate the performance\n",
    "best_model = grid_search.best_estimator_\n",
    "performance(best_model, Xtest, ytest)"
   ]
  },
  {
   "cell_type": "code",
   "execution_count": 48,
   "id": "0b016333",
   "metadata": {},
   "outputs": [
    {
     "name": "stdout",
     "output_type": "stream",
     "text": [
      "Cross-validation scores: [0.2322707  0.16567164 0.24642676 0.17909413 0.27080039 0.23583717]\n",
      "Mean score: 0.2216834657969373\n"
     ]
    }
   ],
   "source": [
    "# Cross validation score\n",
    "scores = cross_val_score(best_model, X, y, cv=6, scoring='neg_mean_squared_error')\n",
    "\n",
    "# Print the scores and their mean\n",
    "print('Cross-validation scores:', -scores)\n",
    "print('Mean score:', -scores.mean())"
   ]
  },
  {
   "cell_type": "markdown",
   "id": "ec566025",
   "metadata": {},
   "source": [
    "### Random Forest"
   ]
  },
  {
   "cell_type": "code",
   "execution_count": 49,
   "id": "fbbf17fd",
   "metadata": {},
   "outputs": [
    {
     "data": {
      "image/png": "[encoded data removed]",
      "text/plain": [
       "<Figure size 432x288 with 1 Axes>"
      ]
     },
     "metadata": {},
     "output_type": "display_data"
    }
   ],
   "source": [
    "# Fit the random forest model\n",
    "RF = RandomForestRegressor(random_state = 20)\n",
    "param_range = np.arange(1,11)\n",
    "train_scores, test_scores = validation_curve(RF, X, y, param_name='max_depth', param_range=param_range, cv=6)\n",
    "train_mean = np.mean(train_scores, axis=1)\n",
    "test_mean = np.mean(test_scores, axis=1)\n",
    "\n",
    "fig1 = plt.figure()\n",
    "plt.plot(param_range, train_mean, label='Train')\n",
    "plt.plot(param_range, test_mean, label='Test')\n",
    "plt.xlabel('Maximum Depth')\n",
    "plt.ylabel('Score')\n",
    "plt.title('Random Forest Validation Curve')\n",
    "plt.legend()\n",
    "plt.savefig('RFVC.png')\n",
    "plt.show()"
   ]
  },
  {
   "cell_type": "code",
   "execution_count": 50,
   "id": "6359408a",
   "metadata": {},
   "outputs": [
    {
     "name": "stdout",
     "output_type": "stream",
     "text": [
      "MAE: 0.21893595855262263\n",
      "MSE: 0.1252086660096176\n",
      "RMSE: 0.35384836584279655\n",
      "R2 0.7832940996078102\n"
     ]
    }
   ],
   "source": [
    "# fit random forest model\n",
    "RF.fit(Xtrain, ytrain)\n",
    "\n",
    "# Evaluate the performance\n",
    "performance(RF, Xtest, ytest)"
   ]
  },
  {
   "cell_type": "code",
   "execution_count": 51,
   "id": "0dc2369b",
   "metadata": {},
   "outputs": [
    {
     "name": "stdout",
     "output_type": "stream",
     "text": [
      "MAE: 0.2557474062529419\n",
      "MSE: 0.14400478459738575\n",
      "RMSE: 0.37947962342843355\n",
      "R2 0.7507625669890712\n"
     ]
    }
   ],
   "source": [
    "# Fit random forest model with max_depth =8\n",
    "rf = RandomForestRegressor(max_depth=8, random_state = 20)\n",
    "rf.fit(Xtrain, ytrain)\n",
    "\n",
    "# Evaluate the performance\n",
    "performance(rf, Xtest, ytest)"
   ]
  },
  {
   "cell_type": "code",
   "execution_count": 52,
   "id": "6b7a8a2f",
   "metadata": {},
   "outputs": [
    {
     "name": "stdout",
     "output_type": "stream",
     "text": [
      "Cross-validation scores: [0.19495917 0.13812494 0.19201353 0.14737301 0.23222673 0.19950516]\n",
      "Mean score: 0.1840337569838544\n"
     ]
    }
   ],
   "source": [
    "# Cross validation score\n",
    "scores = cross_val_score(rf, X, y, cv=6, scoring='neg_mean_squared_error')\n",
    "\n",
    "# Print the scores and their mean\n",
    "print('Cross-validation scores:', -scores)\n",
    "print('Mean score:', -scores.mean())"
   ]
  },
  {
   "cell_type": "markdown",
   "id": "c21c71c6",
   "metadata": {},
   "source": [
    "### XGBoost"
   ]
  },
  {
   "cell_type": "code",
   "execution_count": 53,
   "id": "2a837891",
   "metadata": {},
   "outputs": [
    {
     "name": "stdout",
     "output_type": "stream",
     "text": [
      "MAE: 0.2140149562262604\n",
      "MSE: 0.11661518802800616\n",
      "RMSE: 0.341489660206581\n",
      "R2 0.7981673303741417\n"
     ]
    }
   ],
   "source": [
    "xgbr = xgb.XGBRegressor(random_state = 10)\n",
    "\n",
    "# Fit the regressor to the training set\n",
    "xgbr.fit(Xtrain, ytrain)\n",
    "\n",
    "# Evaluate the performance of XGBoost\n",
    "performance(xgbr, Xtest, ytest)"
   ]
  },
  {
   "cell_type": "code",
   "execution_count": 54,
   "id": "de77a886",
   "metadata": {},
   "outputs": [
    {
     "name": "stdout",
     "output_type": "stream",
     "text": [
      "Cross-validation scores: [0.23544094 0.13793195 0.14546632 0.12011553 0.221141   0.23456937]\n",
      "Mean score: 0.18244418582234015\n"
     ]
    }
   ],
   "source": [
    "scores = cross_val_score(xgbr, X, y, cv=6, scoring='neg_mean_squared_error')\n",
    "\n",
    "# Print the scores and their mean\n",
    "print('Cross-validation scores:', -scores)\n",
    "print('Mean score:', -scores.mean())"
   ]
  },
  {
   "cell_type": "code",
   "execution_count": 55,
   "id": "4a9bc330",
   "metadata": {},
   "outputs": [
    {
     "data": {
      "image/png": "[encoded data removed]",
      "text/plain": [
       "<Figure size 432x288 with 1 Axes>"
      ]
     },
     "metadata": {},
     "output_type": "display_data"
    }
   ],
   "source": [
    "# Fit XGBoost model\n",
    "xgbr = xgb.XGBRegressor(random_state = 20) \n",
    "param_range = np.arange(1,11)\n",
    "train_scores, test_scores = validation_curve(xgbr, X, y, param_name='max_depth', param_range=param_range, cv=6)\n",
    "train_mean = np.mean(train_scores, axis=1)\n",
    "test_mean = np.mean(test_scores, axis=1)\n",
    "\n",
    "fig1 = plt.figure()\n",
    "plt.plot(param_range, train_mean, label='Train')\n",
    "plt.plot(param_range, test_mean, label='Test')\n",
    "plt.xlabel('Maximum Depth')\n",
    "plt.ylabel('Score')\n",
    "plt.title('XGBoost Validation Curve')\n",
    "plt.legend()\n",
    "plt.show()"
   ]
  },
  {
   "cell_type": "markdown",
   "id": "218ea3db",
   "metadata": {},
   "source": [
    "### Parameter tuning (Grid Search) -- XGBoost"
   ]
  },
  {
   "cell_type": "code",
   "execution_count": 56,
   "id": "1c9609fe",
   "metadata": {},
   "outputs": [
    {
     "name": "stdout",
     "output_type": "stream",
     "text": [
      "Fitting 6 folds for each of 24 candidates, totalling 144 fits\n",
      "Best parameters found:  {'colsample_bytree': 0.8, 'max_depth': 4, 'n_estimators': 200}\n"
     ]
    }
   ],
   "source": [
    "gbm_param_grid = {\n",
    "    'colsample_bytree': [0.3, 0.8],\n",
    "    'n_estimators': [50, 100, 200],\n",
    "    'max_depth': [2,3,4,5]\n",
    "}\n",
    "\n",
    "\n",
    "# Perform grid search: grid_mse\n",
    "grid_mse = GridSearchCV(estimator = xgbr, param_grid = gbm_param_grid, scoring = 'neg_mean_squared_error', cv = 6, verbose = 1)\n",
    "\n",
    "\n",
    "# Fit grid_mse to the data\n",
    "grid_mse.fit(Xtrain, ytrain)\n",
    "\n",
    "# Print the best parameters and lowest RMSE\n",
    "print(\"Best parameters found: \", grid_mse.best_params_)"
   ]
  },
  {
   "cell_type": "code",
   "execution_count": 57,
   "id": "8aa4e3ca",
   "metadata": {},
   "outputs": [
    {
     "name": "stdout",
     "output_type": "stream",
     "text": [
      "MAE: 0.21200610483743063\n",
      "MSE: 0.11045952280719432\n",
      "RMSE: 0.3323545137457807\n",
      "R2 0.808821297201697\n"
     ]
    }
   ],
   "source": [
    "XGBoost = grid_mse.best_estimator_\n",
    "performance(XGBoost, Xtest, ytest)"
   ]
  },
  {
   "cell_type": "code",
   "execution_count": 58,
   "id": "88cd4f44",
   "metadata": {},
   "outputs": [
    {
     "name": "stdout",
     "output_type": "stream",
     "text": [
      "Cross-validation scores: [0.22289406 0.13636258 0.1506563  0.12889739 0.20327922 0.21693507]\n",
      "Mean score: 0.17650410200029376\n"
     ]
    }
   ],
   "source": [
    "scores = cross_val_score(XGBoost, X, y, cv=6, scoring='neg_mean_squared_error')\n",
    "\n",
    "# Print the scores and their mean\n",
    "print('Cross-validation scores:', -scores)\n",
    "print('Mean score:', -scores.mean())"
   ]
  },
  {
   "cell_type": "markdown",
   "id": "76bd8ba8",
   "metadata": {},
   "source": [
    "### Feature Importances"
   ]
  },
  {
   "cell_type": "code",
   "execution_count": 59,
   "id": "17920748",
   "metadata": {},
   "outputs": [
    {
     "data": {
      "image/png": "[encoded data removed]",
      "text/plain": [
       "<Figure size 432x288 with 1 Axes>"
      ]
     },
     "metadata": {},
     "output_type": "display_data"
    }
   ],
   "source": [
    "fig, ax = plt.subplots()\n",
    "plot_importance(XGBoost, max_num_features=20, ax=ax)\n",
    "ax.set_xlabel('Score')\n",
    "ax.set_title('Chart 4: Feature Importance')\n",
    "plt.savefig('importance.png', dpi=300, bbox_inches='tight')\n",
    "plt.show()"
   ]
  },
  {
   "cell_type": "code",
   "execution_count": 60,
   "id": "9c3e756a",
   "metadata": {},
   "outputs": [],
   "source": [
    "def evaluate_model(model, X, y, cv):\n",
    "    # Calculate cross validation scores\n",
    "    scores = cross_val_score(model, X, y, cv=cv, scoring='neg_mean_squared_error')\n",
    "\n",
    "    # Fit the model and make predictions on the test data\n",
    "    model.fit(Xtrain, ytrain)\n",
    "    predict = model.predict(Xtest)\n",
    "    \n",
    "    # Calculate evaluation metrics\n",
    "    mae = metrics.mean_absolute_error(ytest, predict)\n",
    "    mse = metrics.mean_squared_error(ytest, predict)\n",
    "    rmse = np.sqrt(mse)\n",
    "    r2 = r2_score(ytest, predict)\n",
    "    \n",
    "    # Create a DataFrame of the evaluation metrics\n",
    "    results = {\n",
    "        'Model': [type(model).__name__],\n",
    "        'MAE': [mae],\n",
    "        'MSE': [mse],\n",
    "        'RMSE': [rmse],\n",
    "        'R2': [r2],\n",
    "        'Cross Val Score': [np.mean(-scores)]\n",
    "    }\n",
    "    df_result = pd.DataFrame(results)\n",
    "\n",
    "    return df_result\n"
   ]
  },
  {
   "cell_type": "code",
   "execution_count": 61,
   "id": "99a2f2c9",
   "metadata": {},
   "outputs": [],
   "source": [
    "# Define the models to evaluate\n",
    "models = [Lasso, best_model, rf, XGBoost]\n",
    "\n",
    "# Evaluate each model and concatenate the results into a single DataFrame\n",
    "df_results = pd.concat([evaluate_model(model, X, y, cv=6) for model in models])"
   ]
  },
  {
   "cell_type": "code",
   "execution_count": 62,
   "id": "a9dceae4",
   "metadata": {},
   "outputs": [
    {
     "data": {
      "text/html": [
       "<div>\n",
       "<style scoped>\n",
       "    .dataframe tbody tr th:only-of-type {\n",
       "        vertical-align: middle;\n",
       "    }\n",
       "\n",
       "    .dataframe tbody tr th {\n",
       "        vertical-align: top;\n",
       "    }\n",
       "\n",
       "    .dataframe thead th {\n",
       "        text-align: right;\n",
       "    }\n",
       "</style>\n",
       "<table border=\"1\" class=\"dataframe\">\n",
       "  <thead>\n",
       "    <tr style=\"text-align: right;\">\n",
       "      <th></th>\n",
       "      <th>Model</th>\n",
       "      <th>MAE</th>\n",
       "      <th>MSE</th>\n",
       "      <th>RMSE</th>\n",
       "      <th>R2</th>\n",
       "      <th>Cross Val Score</th>\n",
       "    </tr>\n",
       "  </thead>\n",
       "  <tbody>\n",
       "    <tr>\n",
       "      <th>0</th>\n",
       "      <td>Lasso</td>\n",
       "      <td>0.278335</td>\n",
       "      <td>0.160808</td>\n",
       "      <td>0.401008</td>\n",
       "      <td>0.721681</td>\n",
       "      <td>0.181943</td>\n",
       "    </tr>\n",
       "    <tr>\n",
       "      <th>0</th>\n",
       "      <td>DecisionTreeRegressor</td>\n",
       "      <td>0.290199</td>\n",
       "      <td>0.170220</td>\n",
       "      <td>0.412577</td>\n",
       "      <td>0.705391</td>\n",
       "      <td>0.221683</td>\n",
       "    </tr>\n",
       "    <tr>\n",
       "      <th>0</th>\n",
       "      <td>RandomForestRegressor</td>\n",
       "      <td>0.255747</td>\n",
       "      <td>0.144005</td>\n",
       "      <td>0.379480</td>\n",
       "      <td>0.750763</td>\n",
       "      <td>0.184034</td>\n",
       "    </tr>\n",
       "    <tr>\n",
       "      <th>0</th>\n",
       "      <td>XGBRegressor</td>\n",
       "      <td>0.212006</td>\n",
       "      <td>0.110460</td>\n",
       "      <td>0.332355</td>\n",
       "      <td>0.808821</td>\n",
       "      <td>0.176504</td>\n",
       "    </tr>\n",
       "  </tbody>\n",
       "</table>\n",
       "</div>"
      ],
      "text/plain": [
       "                   Model       MAE       MSE      RMSE        R2  \\\n",
       "0                  Lasso  0.278335  0.160808  0.401008  0.721681   \n",
       "0  DecisionTreeRegressor  0.290199  0.170220  0.412577  0.705391   \n",
       "0  RandomForestRegressor  0.255747  0.144005  0.379480  0.750763   \n",
       "0           XGBRegressor  0.212006  0.110460  0.332355  0.808821   \n",
       "\n",
       "   Cross Val Score  \n",
       "0         0.181943  \n",
       "0         0.221683  \n",
       "0         0.184034  \n",
       "0         0.176504  "
      ]
     },
     "execution_count": 62,
     "metadata": {},
     "output_type": "execute_result"
    }
   ],
   "source": [
    "# Performance after parameter tunning\n",
    "df_results"
   ]
  }
 ],
 "metadata": {
  "kernelspec": {
   "display_name": "Python 3 (ipykernel)",
   "language": "python",
   "name": "python3"
  },
  "language_info": {
   "codemirror_mode": {
    "name": "ipython",
    "version": 3
   },
   "file_extension": ".py",
   "mimetype": "text/x-python",
   "name": "python",
   "nbconvert_exporter": "python",
   "pygments_lexer": "ipython3",
   "version": "3.9.12"
  }
 },
 "nbformat": 4,
 "nbformat_minor": 5
}
